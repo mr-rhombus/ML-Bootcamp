{
 "cells": [
  {
   "cell_type": "markdown",
   "metadata": {},
   "source": [
    "# Build CNN to classify clothing items\n",
    "Build a classifier to classify 10 different types of clothing items from the Fashion-MNIST dataset"
   ]
  },
  {
   "cell_type": "markdown",
   "metadata": {},
   "source": []
  }
 ],
 "metadata": {
  "kernelspec": {
   "display_name": "Python 3.8.6 ('ml_env': venv)",
   "language": "python",
   "name": "python3"
  },
  "language_info": {
   "name": "python",
   "version": "3.8.6"
  },
  "orig_nbformat": 4,
  "vscode": {
   "interpreter": {
    "hash": "55ed3b3ab9a1955bbb0d7a3066b8de5cfd822c1a9d669ff669eb7c2d03a74e44"
   }
  }
 },
 "nbformat": 4,
 "nbformat_minor": 2
}
