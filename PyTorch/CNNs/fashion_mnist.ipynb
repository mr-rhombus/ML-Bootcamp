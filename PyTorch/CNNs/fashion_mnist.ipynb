{
 "cells": [
  {
   "cell_type": "markdown",
   "metadata": {},
   "source": [
    "# Build CNN to classify clothing items\n",
    "Build a classifier to classify 10 different types of clothing items from the Fashion-MNIST dataset"
   ]
  },
  {
   "cell_type": "code",
   "execution_count": 1,
   "metadata": {},
   "outputs": [],
   "source": [
    "import torch\n",
    "import torch.nn as nn\n",
    "import torch.nn.functional as F\n",
    "from torch.utils.data import DataLoader\n",
    "from torchvision import datasets, transforms\n",
    "from torchvision.utils import make_grid\n",
    "\n",
    "import numpy as np\n",
    "import pandas as pd\n",
    "from sklearn.metrics import confusion_matrix\n",
    "import matplotlib.pyplot as plt"
   ]
  },
  {
   "cell_type": "markdown",
   "metadata": {},
   "source": [
    "### Load data\n",
    "Load in Fashion-MNIST data"
   ]
  },
  {
   "cell_type": "code",
   "execution_count": 8,
   "metadata": {},
   "outputs": [],
   "source": [
    "# Define transform\n",
    "# Images are 28x28 and centered, so no need to resize or center crop\n",
    "train_transform = transforms.Compose([\n",
    "    transforms.RandomHorizontalFlip(p=0.5),\n",
    "    transforms.RandomRotation(25),\n",
    "    transforms.ToTensor()\n",
    "])\n",
    "\n",
    "# Just transform test images to tensors\n",
    "test_transform = transforms.ToTensor()\n",
    "\n",
    "# Train/test split\n",
    "train_data = datasets.FashionMNIST(root='../Data', train=True, download=True, transform = train_transform)\n",
    "test_data = datasets.FashionMNIST(root='../Data', train=False, download=True, transform = test_transform)\n",
    "\n",
    "# Create train loader and test loader\n",
    "train_loader = DataLoader(train_data, batch_size=10, shuffle=True)\n",
    "test_loader = DataLoader(test_data, batch_size=10)"
   ]
  },
  {
   "cell_type": "code",
   "execution_count": 10,
   "metadata": {},
   "outputs": [
    {
     "name": "stdout",
     "output_type": "stream",
     "text": [
      "Labels:  tensor([4, 8, 6, 4, 0, 1, 0, 7, 0, 6])\n"
     ]
    },
    {
     "data": {
      "image/png": "[encoded data removed]",
      "text/plain": [
       "<Figure size 864x432 with 1 Axes>"
      ]
     },
     "metadata": {
      "needs_background": "light"
     },
     "output_type": "display_data"
    }
   ],
   "source": [
    "# Explore 1 batch  of training images\n",
    "for imgs,lbls in train_loader:\n",
    "    break\n",
    "\n",
    "class_names = ['T-shirt','Trouser','Sweater','Dress','Coat','Sandal','Shirt','Sneaker','Bag','Boot']\n",
    "\n",
    "im = make_grid(imgs, nrow=5)\n",
    "print('Labels: ', lbls)\n",
    "plt.figure(figsize=(12,6))\n",
    "plt.imshow(np.transpose(im.numpy(), (1,2,0)))\n",
    "plt.show()"
   ]
  },
  {
   "cell_type": "markdown",
   "metadata": {},
   "source": [
    "### Build the model"
   ]
  },
  {
   "cell_type": "code",
   "execution_count": 13,
   "metadata": {},
   "outputs": [
    {
     "data": {
      "text/plain": [
       "ConvNetwork(\n",
       "  (conv1): Conv2d(1, 6, kernel_size=(3, 3), stride=(1, 1))\n",
       "  (conv2): Conv2d(6, 16, kernel_size=(3, 3), stride=(1, 1))\n",
       "  (fc1): Linear(in_features=400, out_features=120, bias=True)\n",
       "  (fc2): Linear(in_features=120, out_features=84, bias=True)\n",
       "  (fc3): Linear(in_features=84, out_features=10, bias=True)\n",
       ")"
      ]
     },
     "execution_count": 13,
     "metadata": {},
     "output_type": "execute_result"
    }
   ],
   "source": [
    "# Define the network\n",
    "\"\"\"\n",
    "How many layers are input into our first fully-connected layer?\n",
    "28x28 img -> 26x26 after first conv\n",
    "26x26 -> 13x13 after first pooling\n",
    "13x13 -> 11x11 after second conv\n",
    "11x11 -> 5.5x5.5 after second pooling = 5 (L) x 5 (W) x 16 (filters)\n",
    "\"\"\"\n",
    "\n",
    "class ConvNetwork(nn.Module):\n",
    "\n",
    "    def __init__(self):\n",
    "        super().__init__()\n",
    "        self.conv1 = nn.Conv2d(in_channels=1, out_channels=6, kernel_size=3, stride=1)\n",
    "        self.conv2 = nn.Conv2d(in_channels=6, out_channels=16, kernel_size=3, stride=1)\n",
    "        self.fc1 = nn.Linear(5*5*16, 120)\n",
    "        self.fc2 = nn.Linear(120, 84)\n",
    "        self.fc3 = nn.Linear(84, 10)\n",
    "    \n",
    "    def forward(self, X):\n",
    "        X = F.relu(self.conv1(X))\n",
    "        X = F.max_pool2d(X, 2, 2)  # pooling layer kernel and stride of 2\n",
    "        X = F.relu(self.conv2(X))\n",
    "        X = F.max_pool2d(X, 2, 2)\n",
    "        X = X.view(-1, 5*5*16)  # begin flattering out images. The -1 is to retain batch size\n",
    "        X = F.relu(self.fc1(X))\n",
    "        X = F.relu(self.fc2(X))\n",
    "        X = self.fc3(X)\n",
    "        return F.log_softmax(X, dim=1)\n",
    "\n",
    "model = ConvNetwork()\n",
    "\n",
    "criterion = nn.CrossEntropyLoss()\n",
    "optimizer = torch.optim.Adam(model.parameters(), lr=0.001)\n",
    "\n",
    "model"
   ]
  },
  {
   "cell_type": "markdown",
   "metadata": {},
   "source": [
    "### Train the model"
   ]
  },
  {
   "cell_type": "code",
   "execution_count": 19,
   "metadata": {},
   "outputs": [
    {
     "name": "stdout",
     "output_type": "stream",
     "text": [
      "Epoch 1 | Batch 1000/6000 | Loss 0.4332301616668701 | Accuracy 82.38%\n",
      "Epoch 1 | Batch 2000/6000 | Loss 0.4289690852165222 | Accuracy 83.1%\n",
      "Epoch 1 | Batch 3000/6000 | Loss 0.5078614950180054 | Accuracy 83.32%\n",
      "Epoch 1 | Batch 4000/6000 | Loss 0.6048015356063843 | Accuracy 83.41%\n",
      "Epoch 1 | Batch 5000/6000 | Loss 0.45734843611717224 | Accuracy 83.54%\n",
      "Epoch 1 | Batch 6000/6000 | Loss 0.19170361757278442 | Accuracy 83.64%\n",
      "Epoch 2 | Batch 1000/6000 | Loss 0.6881160140037537 | Accuracy 84.4%\n",
      "Epoch 2 | Batch 2000/6000 | Loss 0.35075387358665466 | Accuracy 84.67%\n",
      "Epoch 2 | Batch 3000/6000 | Loss 0.4117306172847748 | Accuracy 84.82%\n",
      "Epoch 2 | Batch 4000/6000 | Loss 0.24389486014842987 | Accuracy 84.73%\n",
      "Epoch 2 | Batch 5000/6000 | Loss 0.12020234763622284 | Accuracy 84.8%\n",
      "Epoch 2 | Batch 6000/6000 | Loss 0.895757794380188 | Accuracy 85.02%\n",
      "Epoch 3 | Batch 1000/6000 | Loss 0.28435301780700684 | Accuracy 85.18%\n",
      "Epoch 3 | Batch 2000/6000 | Loss 0.5959383845329285 | Accuracy 85.56%\n",
      "Epoch 3 | Batch 3000/6000 | Loss 0.4531550407409668 | Accuracy 85.61%\n",
      "Epoch 3 | Batch 4000/6000 | Loss 0.06413287669420242 | Accuracy 85.72%\n",
      "Epoch 3 | Batch 5000/6000 | Loss 0.7446447610855103 | Accuracy 85.82%\n",
      "Epoch 3 | Batch 6000/6000 | Loss 0.12849712371826172 | Accuracy 85.82%\n",
      "Epoch 4 | Batch 1000/6000 | Loss 0.3542713224887848 | Accuracy 86.51%\n",
      "Epoch 4 | Batch 2000/6000 | Loss 0.2303115427494049 | Accuracy 86.23%\n",
      "Epoch 4 | Batch 3000/6000 | Loss 0.7098255753517151 | Accuracy 86.07%\n",
      "Epoch 4 | Batch 4000/6000 | Loss 0.3282511234283447 | Accuracy 86.21%\n",
      "Epoch 4 | Batch 5000/6000 | Loss 0.0905354768037796 | Accuracy 86.23%\n",
      "Epoch 4 | Batch 6000/6000 | Loss 0.050863951444625854 | Accuracy 86.42%\n",
      "Epoch 5 | Batch 1000/6000 | Loss 0.3207436800003052 | Accuracy 87.32%\n",
      "Epoch 5 | Batch 2000/6000 | Loss 0.10624781996011734 | Accuracy 87.14%\n",
      "Epoch 5 | Batch 3000/6000 | Loss 0.44614067673683167 | Accuracy 87.1%\n",
      "Epoch 5 | Batch 4000/6000 | Loss 0.15725594758987427 | Accuracy 86.95%\n",
      "Epoch 5 | Batch 5000/6000 | Loss 0.13325776159763336 | Accuracy 87.11%\n",
      "Epoch 5 | Batch 6000/6000 | Loss 0.8859699964523315 | Accuracy 87.08%\n",
      "Epoch 6 | Batch 1000/6000 | Loss 0.2577749490737915 | Accuracy 86.9%\n",
      "Epoch 6 | Batch 2000/6000 | Loss 0.010554668493568897 | Accuracy 87.07%\n",
      "Epoch 6 | Batch 3000/6000 | Loss 0.48633670806884766 | Accuracy 87.14%\n",
      "Epoch 6 | Batch 4000/6000 | Loss 0.03924121335148811 | Accuracy 87.25%\n",
      "Epoch 6 | Batch 5000/6000 | Loss 0.42940250039100647 | Accuracy 87.1%\n",
      "Epoch 6 | Batch 6000/6000 | Loss 0.16421249508857727 | Accuracy 87.15%\n",
      "Epoch 7 | Batch 1000/6000 | Loss 0.18343386054039001 | Accuracy 87.47%\n",
      "Epoch 7 | Batch 2000/6000 | Loss 0.7691270709037781 | Accuracy 87.43%\n",
      "Epoch 7 | Batch 3000/6000 | Loss 0.1487133800983429 | Accuracy 87.47%\n",
      "Epoch 7 | Batch 4000/6000 | Loss 0.9959766268730164 | Accuracy 87.64%\n",
      "Epoch 7 | Batch 5000/6000 | Loss 0.7993609309196472 | Accuracy 87.65%\n",
      "Epoch 7 | Batch 6000/6000 | Loss 0.2737504243850708 | Accuracy 87.72%\n",
      "Epoch 8 | Batch 1000/6000 | Loss 0.07970096170902252 | Accuracy 87.86%\n",
      "Epoch 8 | Batch 2000/6000 | Loss 0.09436632692813873 | Accuracy 87.5%\n",
      "Epoch 8 | Batch 3000/6000 | Loss 0.15162374079227448 | Accuracy 87.55%\n",
      "Epoch 8 | Batch 4000/6000 | Loss 0.6140416264533997 | Accuracy 87.7%\n",
      "Epoch 8 | Batch 5000/6000 | Loss 0.25964435935020447 | Accuracy 87.75%\n",
      "Epoch 8 | Batch 6000/6000 | Loss 0.2041255682706833 | Accuracy 87.79%\n",
      "Epoch 9 | Batch 1000/6000 | Loss 0.625102162361145 | Accuracy 88.38%\n",
      "Epoch 9 | Batch 2000/6000 | Loss 0.5411669015884399 | Accuracy 88.0%\n",
      "Epoch 9 | Batch 3000/6000 | Loss 0.28000935912132263 | Accuracy 87.77%\n",
      "Epoch 9 | Batch 4000/6000 | Loss 0.6581177115440369 | Accuracy 87.86%\n",
      "Epoch 9 | Batch 5000/6000 | Loss 0.6136468648910522 | Accuracy 87.9%\n",
      "Epoch 9 | Batch 6000/6000 | Loss 0.2228408306837082 | Accuracy 87.93%\n",
      "Epoch 10 | Batch 1000/6000 | Loss 0.7025354504585266 | Accuracy 88.32%\n",
      "Epoch 10 | Batch 2000/6000 | Loss 0.5164520144462585 | Accuracy 88.36%\n",
      "Epoch 10 | Batch 3000/6000 | Loss 0.4048904478549957 | Accuracy 88.13%\n",
      "Epoch 10 | Batch 4000/6000 | Loss 0.1680033951997757 | Accuracy 88.19%\n",
      "Epoch 10 | Batch 5000/6000 | Loss 0.3494528532028198 | Accuracy 88.19%\n",
      "Epoch 10 | Batch 6000/6000 | Loss 0.2618437111377716 | Accuracy 88.17%\n",
      "All done! Training took 548.34 seconds.\n"
     ]
    }
   ],
   "source": [
    "# 60000 training images, 10000 test images\n",
    "import time\n",
    "start = time.time()\n",
    "\n",
    "epochs = 10\n",
    "\n",
    "train_losses = []\n",
    "test_losses = []\n",
    "train_correct = []\n",
    "test_correct = []\n",
    "\n",
    "for e in range(epochs):\n",
    "    trn_corr = 0\n",
    "    tst_corr = 0\n",
    "    for b, (X_train, y_train) in enumerate(train_loader):\n",
    "        b+=1\n",
    "        # Get preds for batch\n",
    "        y_pred = model(X_train)\n",
    "        loss = criterion(y_pred, y_train)\n",
    "        # Determine correct preds in batch\n",
    "        predicted = torch.max(y_pred.data, 1)[1]\n",
    "        batch_corr = (predicted == y_train).sum()\n",
    "        trn_corr += batch_corr\n",
    "        # Update parameters\n",
    "        optimizer.zero_grad()\n",
    "        loss.backward()\n",
    "        optimizer.step()\n",
    "        # Print how the model is doing\n",
    "        if b%1000 == 0:\n",
    "            print(f'Epoch {e+1} | Batch {b}/6000 | Loss {loss.item()} | Accuracy {round(trn_corr.item()/b*10,2)}%')\n",
    "    # Update train losses/accuracy for epoch\n",
    "    train_losses.append(loss)\n",
    "    train_correct.append(trn_corr)\n",
    "    # Evaluate test data without updating params\n",
    "    with torch.no_grad():\n",
    "        for b, (X_test, y_test) in enumerate(test_loader):\n",
    "            y_val = model(X_test)\n",
    "            # How many correct in batch\n",
    "            predicted = torch.max(y_val.data, 1)[1]\n",
    "            batch_corr = (predicted == y_test).sum()\n",
    "            tst_corr += batch_corr\n",
    "    loss = criterion(y_val, y_test)\n",
    "    # Update test loss/accuracy for epoch\n",
    "    test_losses.append(loss)\n",
    "    test_correct.append(tst_corr)\n",
    "\n",
    "elapsed = round(time.time() - start,2)\n",
    "print(f'All done! Training took {elapsed} seconds.')"
   ]
  },
  {
   "cell_type": "code",
   "execution_count": null,
   "metadata": {},
   "outputs": [],
   "source": [
    "# Save the model\n",
    "torch.save(model.state_dict(), 'fashion_mnist.pt')"
   ]
  },
  {
   "cell_type": "markdown",
   "metadata": {},
   "source": [
    "### Plot loss and accuracy against epoch"
   ]
  },
  {
   "cell_type": "code",
   "execution_count": 22,
   "metadata": {},
   "outputs": [
    {
     "data": {
      "image/png": "[encoded data removed]",
      "text/plain": [
       "<Figure size 432x288 with 1 Axes>"
      ]
     },
     "metadata": {
      "needs_background": "light"
     },
     "output_type": "display_data"
    }
   ],
   "source": [
    "# Train\n",
    "plt.plot([el.item() for el in train_losses], label='Train loss')\n",
    "# Test/val\n",
    "plt.plot([el.item() for el in test_losses], label='Test loss')\n",
    "plt.title('Loss vs Epoch')\n",
    "plt.legend()\n",
    "plt.show()"
   ]
  },
  {
   "cell_type": "code",
   "execution_count": 24,
   "metadata": {},
   "outputs": [
    {
     "data": {
      "image/png": "[encoded data removed]",
      "text/plain": [
       "<Figure size 432x288 with 1 Axes>"
      ]
     },
     "metadata": {
      "needs_background": "light"
     },
     "output_type": "display_data"
    }
   ],
   "source": [
    "# Train\n",
    "plt.plot([el.item()/600 for el in train_correct], label='Train accuracy')\n",
    "# Test/val\n",
    "plt.plot([el.item()/100 for el in test_correct], label='Test accuracy')\n",
    "plt.title('Accuracy vs Epoch')\n",
    "plt.legend()\n",
    "plt.show()"
   ]
  },
  {
   "cell_type": "code",
   "execution_count": 30,
   "metadata": {},
   "outputs": [
    {
     "name": "stdout",
     "output_type": "stream",
     "text": [
      "Final accuracy: 87.73%\n"
     ]
    }
   ],
   "source": [
    "acc = test_correct[-1].item()/100\n",
    "print(f'Final accuracy: {acc}%')"
   ]
  },
  {
   "cell_type": "code",
   "execution_count": 33,
   "metadata": {},
   "outputs": [
    {
     "data": {
      "text/html": [
       "<div>\n",
       "<style scoped>\n",
       "    .dataframe tbody tr th:only-of-type {\n",
       "        vertical-align: middle;\n",
       "    }\n",
       "\n",
       "    .dataframe tbody tr th {\n",
       "        vertical-align: top;\n",
       "    }\n",
       "\n",
       "    .dataframe thead th {\n",
       "        text-align: right;\n",
       "    }\n",
       "</style>\n",
       "<table border=\"1\" class=\"dataframe\">\n",
       "  <thead>\n",
       "    <tr style=\"text-align: right;\">\n",
       "      <th></th>\n",
       "      <th>T-shirt</th>\n",
       "      <th>Trouser</th>\n",
       "      <th>Sweater</th>\n",
       "      <th>Dress</th>\n",
       "      <th>Coat</th>\n",
       "      <th>Sandal</th>\n",
       "      <th>Shirt</th>\n",
       "      <th>Sneaker</th>\n",
       "      <th>Bag</th>\n",
       "      <th>Boot</th>\n",
       "    </tr>\n",
       "  </thead>\n",
       "  <tbody>\n",
       "    <tr>\n",
       "      <th>T-shirt</th>\n",
       "      <td>817</td>\n",
       "      <td>0</td>\n",
       "      <td>16</td>\n",
       "      <td>18</td>\n",
       "      <td>4</td>\n",
       "      <td>0</td>\n",
       "      <td>131</td>\n",
       "      <td>0</td>\n",
       "      <td>13</td>\n",
       "      <td>1</td>\n",
       "    </tr>\n",
       "    <tr>\n",
       "      <th>Trouser</th>\n",
       "      <td>0</td>\n",
       "      <td>971</td>\n",
       "      <td>0</td>\n",
       "      <td>19</td>\n",
       "      <td>0</td>\n",
       "      <td>0</td>\n",
       "      <td>8</td>\n",
       "      <td>0</td>\n",
       "      <td>2</td>\n",
       "      <td>0</td>\n",
       "    </tr>\n",
       "    <tr>\n",
       "      <th>Sweater</th>\n",
       "      <td>10</td>\n",
       "      <td>1</td>\n",
       "      <td>779</td>\n",
       "      <td>8</td>\n",
       "      <td>81</td>\n",
       "      <td>0</td>\n",
       "      <td>117</td>\n",
       "      <td>0</td>\n",
       "      <td>4</td>\n",
       "      <td>0</td>\n",
       "    </tr>\n",
       "    <tr>\n",
       "      <th>Dress</th>\n",
       "      <td>16</td>\n",
       "      <td>11</td>\n",
       "      <td>11</td>\n",
       "      <td>872</td>\n",
       "      <td>38</td>\n",
       "      <td>0</td>\n",
       "      <td>45</td>\n",
       "      <td>0</td>\n",
       "      <td>6</td>\n",
       "      <td>1</td>\n",
       "    </tr>\n",
       "    <tr>\n",
       "      <th>Coat</th>\n",
       "      <td>2</td>\n",
       "      <td>4</td>\n",
       "      <td>43</td>\n",
       "      <td>23</td>\n",
       "      <td>836</td>\n",
       "      <td>0</td>\n",
       "      <td>90</td>\n",
       "      <td>0</td>\n",
       "      <td>2</td>\n",
       "      <td>0</td>\n",
       "    </tr>\n",
       "    <tr>\n",
       "      <th>Sandal</th>\n",
       "      <td>0</td>\n",
       "      <td>0</td>\n",
       "      <td>0</td>\n",
       "      <td>0</td>\n",
       "      <td>0</td>\n",
       "      <td>941</td>\n",
       "      <td>0</td>\n",
       "      <td>50</td>\n",
       "      <td>1</td>\n",
       "      <td>8</td>\n",
       "    </tr>\n",
       "    <tr>\n",
       "      <th>Shirt</th>\n",
       "      <td>136</td>\n",
       "      <td>2</td>\n",
       "      <td>70</td>\n",
       "      <td>15</td>\n",
       "      <td>93</td>\n",
       "      <td>0</td>\n",
       "      <td>670</td>\n",
       "      <td>0</td>\n",
       "      <td>14</td>\n",
       "      <td>0</td>\n",
       "    </tr>\n",
       "    <tr>\n",
       "      <th>Sneaker</th>\n",
       "      <td>0</td>\n",
       "      <td>0</td>\n",
       "      <td>0</td>\n",
       "      <td>0</td>\n",
       "      <td>0</td>\n",
       "      <td>1</td>\n",
       "      <td>0</td>\n",
       "      <td>990</td>\n",
       "      <td>0</td>\n",
       "      <td>9</td>\n",
       "    </tr>\n",
       "    <tr>\n",
       "      <th>Bag</th>\n",
       "      <td>4</td>\n",
       "      <td>0</td>\n",
       "      <td>6</td>\n",
       "      <td>1</td>\n",
       "      <td>3</td>\n",
       "      <td>2</td>\n",
       "      <td>6</td>\n",
       "      <td>2</td>\n",
       "      <td>976</td>\n",
       "      <td>0</td>\n",
       "    </tr>\n",
       "    <tr>\n",
       "      <th>Boot</th>\n",
       "      <td>0</td>\n",
       "      <td>0</td>\n",
       "      <td>0</td>\n",
       "      <td>0</td>\n",
       "      <td>0</td>\n",
       "      <td>6</td>\n",
       "      <td>0</td>\n",
       "      <td>71</td>\n",
       "      <td>2</td>\n",
       "      <td>921</td>\n",
       "    </tr>\n",
       "  </tbody>\n",
       "</table>\n",
       "</div>"
      ],
      "text/plain": [
       "         T-shirt  Trouser  Sweater  Dress  Coat  Sandal  Shirt  Sneaker  Bag  \\\n",
       "T-shirt      817        0       16     18     4       0    131        0   13   \n",
       "Trouser        0      971        0     19     0       0      8        0    2   \n",
       "Sweater       10        1      779      8    81       0    117        0    4   \n",
       "Dress         16       11       11    872    38       0     45        0    6   \n",
       "Coat           2        4       43     23   836       0     90        0    2   \n",
       "Sandal         0        0        0      0     0     941      0       50    1   \n",
       "Shirt        136        2       70     15    93       0    670        0   14   \n",
       "Sneaker        0        0        0      0     0       1      0      990    0   \n",
       "Bag            4        0        6      1     3       2      6        2  976   \n",
       "Boot           0        0        0      0     0       6      0       71    2   \n",
       "\n",
       "         Boot  \n",
       "T-shirt     1  \n",
       "Trouser     0  \n",
       "Sweater     0  \n",
       "Dress       1  \n",
       "Coat        0  \n",
       "Sandal      8  \n",
       "Shirt       0  \n",
       "Sneaker     9  \n",
       "Bag         0  \n",
       "Boot      921  "
      ]
     },
     "execution_count": 33,
     "metadata": {},
     "output_type": "execute_result"
    }
   ],
   "source": [
    "# Confusion matrix\n",
    "test_load_all = DataLoader(test_data, batch_size=len(test_data), shuffle=False)\n",
    "\n",
    "# Don't update weights\n",
    "with torch.no_grad():\n",
    "    correct = 0\n",
    "    for X_test, y_test in test_load_all:\n",
    "        y_val = model(X_test)\n",
    "        predicted = torch.max(y_val, 1)[1]\n",
    "        # correct += (predicted == y_val).sum()\n",
    "\n",
    "import pandas as pd    \n",
    "# Plot confusion matrix as heat map\n",
    "arr = confusion_matrix(y_test, predicted)\n",
    "cm_df = pd.DataFrame(arr, index=class_names, columns=class_names)\n",
    "cm_df"
   ]
  },
  {
   "cell_type": "code",
   "execution_count": 34,
   "metadata": {},
   "outputs": [
    {
     "data": {
      "image/png": "[encoded data removed]",
      "text/plain": [
       "<Figure size 864x432 with 2 Axes>"
      ]
     },
     "metadata": {
      "needs_background": "light"
     },
     "output_type": "display_data"
    }
   ],
   "source": [
    "import seaborn as sns\n",
    "\n",
    "plt.figure(figsize=(12,6))\n",
    "sns.heatmap(cm_df, annot=True, fmt='d', cmap='BuGn')\n",
    "plt.xlabel('Prediction')\n",
    "plt.ylabel('Label (ground truth')\n",
    "plt.show()"
   ]
  },
  {
   "cell_type": "markdown",
   "metadata": {},
   "source": [
    "### Pass \"unseen\" data to model"
   ]
  },
  {
   "cell_type": "code",
   "execution_count": 38,
   "metadata": {},
   "outputs": [
    {
     "data": {
      "image/png": "[encoded data removed]",
      "text/plain": [
       "<Figure size 432x288 with 1 Axes>"
      ]
     },
     "metadata": {
      "needs_background": "light"
     },
     "output_type": "display_data"
    },
    {
     "name": "stdout",
     "output_type": "stream",
     "text": [
      "Actual label:  T-shirt\n"
     ]
    }
   ],
   "source": [
    "plt.imshow(test_data[720][0].reshape(28,28))\n",
    "plt.show()\n",
    "lbl = test_data[720][1]\n",
    "print('Actual label: ', class_names[lbl])"
   ]
  },
  {
   "cell_type": "code",
   "execution_count": 39,
   "metadata": {},
   "outputs": [
    {
     "name": "stdout",
     "output_type": "stream",
     "text": [
      "Predicted value: T-shirt\n"
     ]
    }
   ],
   "source": [
    "model.eval()\n",
    "with torch.no_grad():\n",
    "    new_pred = model(test_data[720][0].view(1,1,28,28))  # bs, color channel, L, W\n",
    "print(f'Predicted value: {class_names[new_pred.argmax().item()]}')"
   ]
  },
  {
   "cell_type": "code",
   "execution_count": 40,
   "metadata": {},
   "outputs": [
    {
     "data": {
      "text/plain": [
       "tensor([[ -0.1003, -17.2940,  -6.6698,  -7.2340,  -9.7244, -14.4704,  -2.3714,\n",
       "         -21.0723, -10.0500, -17.0532]])"
      ]
     },
     "execution_count": 40,
     "metadata": {},
     "output_type": "execute_result"
    }
   ],
   "source": [
    "new_pred"
   ]
  },
  {
   "cell_type": "code",
   "execution_count": null,
   "metadata": {},
   "outputs": [],
   "source": [
    "# The model correctly predicted a T-shirt! The second closest guess was a Shirt, which makes sense since the T-shirt vs Shirt was the most confusing classification the model faced"
   ]
  }
 ],
 "metadata": {
  "kernelspec": {
   "display_name": "Python 3.8.6 ('ml_env': venv)",
   "language": "python",
   "name": "python3"
  },
  "language_info": {
   "codemirror_mode": {
    "name": "ipython",
    "version": 3
   },
   "file_extension": ".py",
   "mimetype": "text/x-python",
   "name": "python",
   "nbconvert_exporter": "python",
   "pygments_lexer": "ipython3",
   "version": "3.8.6"
  },
  "orig_nbformat": 4,
  "vscode": {
   "interpreter": {
    "hash": "55ed3b3ab9a1955bbb0d7a3066b8de5cfd822c1a9d669ff669eb7c2d03a74e44"
   }
  }
 },
 "nbformat": 4,
 "nbformat_minor": 2
}
