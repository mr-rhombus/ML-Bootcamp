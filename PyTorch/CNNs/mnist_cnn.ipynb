{
 "cells": [
  {
   "cell_type": "markdown",
   "metadata": {},
   "source": [
    "# MNIST classification with CNN\n",
    "Compare how well a CNN performs as a classification model using the MNIST data. It is expected to perform much better than the ANN"
   ]
  },
  {
   "cell_type": "code",
   "execution_count": 1,
   "metadata": {},
   "outputs": [],
   "source": [
    "import torch\n",
    "import torch.nn as nn\n",
    "import torch.nn.functional as F\n",
    "from torch.utils.data import DataLoader\n",
    "from torchvision import datasets, transforms\n",
    "from torchvision.utils import make_grid\n",
    "\n",
    "import numpy as np\n",
    "import pandas as pd\n",
    "from sklearn.metrics import confusion_matrix\n",
    "import matplotlib.pyplot as plt"
   ]
  },
  {
   "cell_type": "markdown",
   "metadata": {},
   "source": [
    "### Load data\n",
    "Load in MNIST data"
   ]
  },
  {
   "cell_type": "code",
   "execution_count": 2,
   "metadata": {},
   "outputs": [],
   "source": [
    "transform = transforms.ToTensor()\n",
    "train_data = datasets.MNIST(root='../Data', train=True, download=True, transform=transform)\n",
    "test_data = datasets.MNIST(root='../Data', train=False, download=True, transform=transform)\n",
    "\n",
    "# Create data loaders\n",
    "# start bs small to explore, then go bigger if we can handle\n",
    "train_loader = DataLoader(train_data, batch_size=10, shuffle=True)\n",
    "test_loader = DataLoader(test_data, batch_size=10)"
   ]
  },
  {
   "cell_type": "markdown",
   "metadata": {},
   "source": [
    "### Build model\n",
    "Start by building convolutional layers. This is purely demonstrative to show how the stages interact. We will combine all of these into a single class, representing the NN, later."
   ]
  },
  {
   "cell_type": "code",
   "execution_count": 3,
   "metadata": {},
   "outputs": [],
   "source": [
    "conv1 = nn.Conv2d(in_channels=1, out_channels=6, kernel_size=3, stride=1)\n",
    "# 1 input channel - 1 color channel, grayscale\n",
    "# 6 output channels - used for feature extraction. Called \"feature maps\", these are the filters the CNN will figure out for us\n",
    "# kernel size = 3 -> 3x3 filters\n",
    "# stride length of 1\n",
    "\n",
    "conv2 = nn.Conv2d(in_channels=6, out_channels=16, kernel_size=3, stride=1)\n",
    "# conv2 takes results of conv1 after it's passed thru a pooling layer\n",
    "# 6 inputs - 6 filters from conv1\n",
    "# 16 outputs - arbitrary choice of filters for conv2"
   ]
  },
  {
   "cell_type": "code",
   "execution_count": 4,
   "metadata": {},
   "outputs": [
    {
     "data": {
      "text/plain": [
       "torch.Size([1, 1, 28, 28])"
      ]
     },
     "execution_count": 4,
     "metadata": {},
     "output_type": "execute_result"
    }
   ],
   "source": [
    "# Grab very first batch of data\n",
    "for i, (X_train,y_train) in enumerate(train_data):\n",
    "    break\n",
    "\n",
    "# We want X_train to represent a batch of 1 image --> 4D, representing a vector like (bs, channels, l, w)\n",
    "X = X_train.view(1,1,28,28)\n",
    "\n",
    "X.shape"
   ]
  },
  {
   "cell_type": "code",
   "execution_count": 5,
   "metadata": {},
   "outputs": [
    {
     "data": {
      "text/plain": [
       "torch.Size([1, 6, 26, 26])"
      ]
     },
     "execution_count": 5,
     "metadata": {},
     "output_type": "execute_result"
    }
   ],
   "source": [
    "# Perform first convolution, and pass through activation function\n",
    "X = F.relu(conv1(X))\n",
    "X.shape\n",
    "# We're fine not having padding, and thus losing information on the edges of images since all MNIST images are centered"
   ]
  },
  {
   "cell_type": "code",
   "execution_count": 6,
   "metadata": {},
   "outputs": [
    {
     "data": {
      "text/plain": [
       "torch.Size([1, 6, 13, 13])"
      ]
     },
     "execution_count": 6,
     "metadata": {},
     "output_type": "execute_result"
    }
   ],
   "source": [
    "# Pass X through pooling layer. Select max pooling in 2D\n",
    "X = F.max_pool2d(X, 2, 2)  # args of input, kernel size and stride\n",
    "X.shape\n",
    "# 2x2 kernel with stride of 2 cuts the size of the image in half!"
   ]
  },
  {
   "cell_type": "code",
   "execution_count": 7,
   "metadata": {},
   "outputs": [
    {
     "data": {
      "text/plain": [
       "torch.Size([1, 16, 11, 11])"
      ]
     },
     "execution_count": 7,
     "metadata": {},
     "output_type": "execute_result"
    }
   ],
   "source": [
    "# Pass X through second conv layer\n",
    "X = F.relu(conv2(X))\n",
    "X.shape"
   ]
  },
  {
   "cell_type": "code",
   "execution_count": 8,
   "metadata": {},
   "outputs": [
    {
     "data": {
      "text/plain": [
       "torch.Size([1, 16, 5, 5])"
      ]
     },
     "execution_count": 8,
     "metadata": {},
     "output_type": "execute_result"
    }
   ],
   "source": [
    "# Pass X through final pooling layer\n",
    "X = F.max_pool2d(X, 2, 2)\n",
    "X.shape"
   ]
  },
  {
   "cell_type": "code",
   "execution_count": 9,
   "metadata": {},
   "outputs": [
    {
     "data": {
      "text/plain": [
       "torch.Size([1, 400])"
      ]
     },
     "execution_count": 9,
     "metadata": {},
     "output_type": "execute_result"
    }
   ],
   "source": [
    "# Flatten X to pass into fully connected layer. Output layer will have 10 neurons, 1 for each class\n",
    "X.view(-1,16*5*5).shape"
   ]
  },
  {
   "cell_type": "code",
   "execution_count": 10,
   "metadata": {},
   "outputs": [
    {
     "data": {
      "text/plain": [
       "ConvolutionalNetwork(\n",
       "  (conv1): Conv2d(1, 6, kernel_size=(3, 3), stride=(1, 1))\n",
       "  (conv2): Conv2d(6, 16, kernel_size=(3, 3), stride=(1, 1))\n",
       "  (fc1): Linear(in_features=400, out_features=120, bias=True)\n",
       "  (fc2): Linear(in_features=120, out_features=84, bias=True)\n",
       "  (fc3): Linear(in_features=84, out_features=10, bias=True)\n",
       ")"
      ]
     },
     "execution_count": 10,
     "metadata": {},
     "output_type": "execute_result"
    }
   ],
   "source": [
    "# Build CNN class\n",
    "class ConvolutionalNetwork(nn.Module):\n",
    "\n",
    "    def __init__(self):\n",
    "        super().__init__()\n",
    "        self.conv1 = nn.Conv2d(in_channels=1, out_channels=6, kernel_size=3, stride=1)\n",
    "        self.conv2 = nn.Conv2d(in_channels=6, out_channels=16, kernel_size=3, stride=1)\n",
    "        # We don't define pooling \"layers\" as layers. Instead, we treat them as functions, similar to an activation function, so they get added in the forward method\n",
    "        self.fc1 = nn.Linear(5*5*16,120)  # arbitrary choice of # of fc layers, and neurons in each layer\n",
    "        self.fc2 = nn.Linear(120, 84)\n",
    "        self.fc3 = nn.Linear(84, 10)\n",
    "\n",
    "    def forward(self, X):\n",
    "        X = F.relu(self.conv1(X))\n",
    "        X = F.max_pool2d(X, 2, 2)  # 2x2 kernel, stride of 2\n",
    "        X = F.relu(self.conv2(X))\n",
    "        X = F.max_pool2d(X, 2, 2)\n",
    "        X = X.view(-1, 16*5*5)\n",
    "        X = F.relu(self.fc1(X))\n",
    "        X = F.relu(self.fc2(X))\n",
    "        X = self.fc3(X)\n",
    "        return F.log_softmax(X, dim=1)\n",
    "\n",
    "# Instantiate model\n",
    "model = ConvolutionalNetwork()\n",
    "model"
   ]
  },
  {
   "cell_type": "code",
   "execution_count": 11,
   "metadata": {},
   "outputs": [
    {
     "name": "stdout",
     "output_type": "stream",
     "text": [
      "54\n",
      "6\n",
      "864\n",
      "16\n",
      "48000\n",
      "120\n",
      "10080\n",
      "84\n",
      "840\n",
      "10\n"
     ]
    }
   ],
   "source": [
    "# See how many parameters we've reduced to (from 100k+)\n",
    "for param in model.parameters():\n",
    "    print(param.numel())"
   ]
  },
  {
   "cell_type": "code",
   "execution_count": 12,
   "metadata": {},
   "outputs": [],
   "source": [
    "# Define loss fn and optimizer\n",
    "criterion = nn.CrossEntropyLoss()\n",
    "optimizer = torch.optim.Adam(model.parameters(), lr=0.001)"
   ]
  },
  {
   "cell_type": "code",
   "execution_count": 13,
   "metadata": {},
   "outputs": [
    {
     "name": "stdout",
     "output_type": "stream",
     "text": [
      "Epoch: 0 | Batch: 500 | Loss: 0.6277940273284912\n",
      "Epoch: 0 | Batch: 1000 | Loss: 0.03605744615197182\n",
      "Epoch: 0 | Batch: 1500 | Loss: 0.05550842359662056\n",
      "Epoch: 0 | Batch: 2000 | Loss: 0.007933182641863823\n",
      "Epoch: 0 | Batch: 2500 | Loss: 0.026417383924126625\n",
      "Epoch: 0 | Batch: 3000 | Loss: 0.2927563786506653\n",
      "Epoch: 0 | Batch: 3500 | Loss: 0.016042783856391907\n",
      "Epoch: 0 | Batch: 4000 | Loss: 0.042500000447034836\n",
      "Epoch: 0 | Batch: 4500 | Loss: 0.019636245444417\n",
      "Epoch: 0 | Batch: 5000 | Loss: 0.0462556853890419\n",
      "Epoch: 0 | Batch: 5500 | Loss: 0.2734230160713196\n",
      "Epoch: 0 | Batch: 6000 | Loss: 0.09312164783477783\n",
      "Epoch: 1 | Batch: 500 | Loss: 0.19210967421531677\n",
      "Epoch: 1 | Batch: 1000 | Loss: 0.003070473438128829\n",
      "Epoch: 1 | Batch: 1500 | Loss: 0.03893696516752243\n",
      "Epoch: 1 | Batch: 2000 | Loss: 0.00839301384985447\n",
      "Epoch: 1 | Batch: 2500 | Loss: 0.3736547529697418\n",
      "Epoch: 1 | Batch: 3000 | Loss: 0.078346386551857\n",
      "Epoch: 1 | Batch: 3500 | Loss: 0.0028540105558931828\n",
      "Epoch: 1 | Batch: 4000 | Loss: 0.09225616604089737\n",
      "Epoch: 1 | Batch: 4500 | Loss: 0.004927990026772022\n",
      "Epoch: 1 | Batch: 5000 | Loss: 0.008918967097997665\n",
      "Epoch: 1 | Batch: 5500 | Loss: 0.008968980051577091\n",
      "Epoch: 1 | Batch: 6000 | Loss: 0.00014990425552241504\n",
      "Epoch: 2 | Batch: 500 | Loss: 0.35439684987068176\n",
      "Epoch: 2 | Batch: 1000 | Loss: 0.001466423156671226\n",
      "Epoch: 2 | Batch: 1500 | Loss: 0.0001711532095214352\n",
      "Epoch: 2 | Batch: 2000 | Loss: 0.04002044349908829\n",
      "Epoch: 2 | Batch: 2500 | Loss: 0.0002376580669078976\n",
      "Epoch: 2 | Batch: 3000 | Loss: 0.08352471888065338\n",
      "Epoch: 2 | Batch: 3500 | Loss: 0.0054344069212675095\n",
      "Epoch: 2 | Batch: 4000 | Loss: 0.029798079282045364\n",
      "Epoch: 2 | Batch: 4500 | Loss: 0.0010648308089002967\n",
      "Epoch: 2 | Batch: 5000 | Loss: 0.01304924301803112\n",
      "Epoch: 2 | Batch: 5500 | Loss: 0.001929641468450427\n",
      "Epoch: 2 | Batch: 6000 | Loss: 0.1784757822751999\n",
      "Epoch: 3 | Batch: 500 | Loss: 0.006891173310577869\n",
      "Epoch: 3 | Batch: 1000 | Loss: 0.005529728252440691\n",
      "Epoch: 3 | Batch: 1500 | Loss: 0.009184916503727436\n",
      "Epoch: 3 | Batch: 2000 | Loss: 0.01233753003180027\n",
      "Epoch: 3 | Batch: 2500 | Loss: 0.04291794076561928\n",
      "Epoch: 3 | Batch: 3000 | Loss: 0.060660868883132935\n",
      "Epoch: 3 | Batch: 3500 | Loss: 0.49446195363998413\n",
      "Epoch: 3 | Batch: 4000 | Loss: 0.0002691008266992867\n",
      "Epoch: 3 | Batch: 4500 | Loss: 0.003552005859091878\n",
      "Epoch: 3 | Batch: 5000 | Loss: 0.0013445637887343764\n",
      "Epoch: 3 | Batch: 5500 | Loss: 0.0012494196416810155\n",
      "Epoch: 3 | Batch: 6000 | Loss: 0.003985234070569277\n",
      "Epoch: 4 | Batch: 500 | Loss: 4.3519899918464944e-05\n",
      "Epoch: 4 | Batch: 1000 | Loss: 1.2826506463170517e-05\n",
      "Epoch: 4 | Batch: 1500 | Loss: 0.00012771700858138502\n",
      "Epoch: 4 | Batch: 2000 | Loss: 4.199477916699834e-05\n",
      "Epoch: 4 | Batch: 2500 | Loss: 0.0001858031318988651\n",
      "Epoch: 4 | Batch: 3000 | Loss: 0.00034417034476064146\n",
      "Epoch: 4 | Batch: 3500 | Loss: 0.13446620106697083\n",
      "Epoch: 4 | Batch: 4000 | Loss: 0.00015073285612743348\n",
      "Epoch: 4 | Batch: 4500 | Loss: 0.0012160467449575663\n",
      "Epoch: 4 | Batch: 5000 | Loss: 0.008229842409491539\n",
      "Epoch: 4 | Batch: 5500 | Loss: 0.10693743079900742\n",
      "Epoch: 4 | Batch: 6000 | Loss: 0.003002592595294118\n",
      "Model training took 3.82 minutes!\n"
     ]
    }
   ],
   "source": [
    " # Set up model training\n",
    "import time\n",
    "start = time.time()\n",
    "\n",
    "# Vars\n",
    "epochs = 5\n",
    "train_losses = []\n",
    "test_losses = []\n",
    "train_correct = []\n",
    "test_correct = []\n",
    "\n",
    "# For loop for epochs\n",
    "for e in range(epochs):\n",
    "    trn_correct = 0\n",
    "    tst_correct = 0\n",
    "    # Train\n",
    "    for b, (X_train, y_train) in enumerate(train_loader):\n",
    "        b+=1\n",
    "        # note we don't need to flatten out training data since the first conv layer (Conv2d) expects 2D data!\n",
    "        y_pred = model(X_train)\n",
    "        loss = criterion(y_pred, y_train)\n",
    "        predicted = torch.max(y_pred.data, 1)[1]\n",
    "        batch_corr = (predicted == y_train).sum()\n",
    "        trn_correct += batch_corr\n",
    "\n",
    "        optimizer.zero_grad()  # find maximums\n",
    "        loss.backward()  # backpropagate\n",
    "        optimizer.step()  # update weights and biases\n",
    "\n",
    "        if b%500 == 0:\n",
    "            print(f'Epoch: {e} | Batch: {b} | Loss: {loss.item()}')\n",
    "    \n",
    "    train_losses.append(loss)\n",
    "    train_correct.append(trn_correct)\n",
    "\n",
    "    # Test\n",
    "    # Use model to evaluate test data, but don't update weights and biases\n",
    "    with torch.no_grad():\n",
    "        for b, (X_test, y_test) in enumerate(test_loader):\n",
    "            y_val = model(X_test)\n",
    "            predicted = torch.max(y_val.data, 1)[1]\n",
    "            batch_corr = (predicted == y_test).sum()\n",
    "            tst_correct += batch_corr\n",
    "            \n",
    "    loss = criterion(y_val, y_test)\n",
    "    test_losses.append(loss)\n",
    "    test_correct.append(tst_correct)\n",
    "\n",
    "elapsed = time.time() - start\n",
    "print(f'Model training took {round(elapsed/60, 2)} minutes!')"
   ]
  },
  {
   "cell_type": "code",
   "execution_count": 19,
   "metadata": {},
   "outputs": [
    {
     "data": {
      "text/plain": [
       "<matplotlib.legend.Legend at 0x277284a57c0>"
      ]
     },
     "execution_count": 19,
     "metadata": {},
     "output_type": "execute_result"
    },
    {
     "data": {
      "image/png": "[encoded data removed]",
      "text/plain": [
       "<Figure size 432x288 with 1 Axes>"
      ]
     },
     "metadata": {
      "needs_background": "light"
     },
     "output_type": "display_data"
    }
   ],
   "source": [
    "# Plot train losses and test losses\n",
    "# Train\n",
    "plt.plot([el.item() for el in train_losses], label='Train Loss')\n",
    "# Test/val\n",
    "plt.plot([el.item() for el in test_losses], label='Val Loss')\n",
    "plt.title('Loss at Epoch')\n",
    "plt.legend()"
   ]
  },
  {
   "cell_type": "code",
   "execution_count": 21,
   "metadata": {},
   "outputs": [
    {
     "data": {
      "text/plain": [
       "<matplotlib.legend.Legend at 0x277295928b0>"
      ]
     },
     "execution_count": 21,
     "metadata": {},
     "output_type": "execute_result"
    },
    {
     "data": {
      "image/png": "[encoded data removed]",
      "text/plain": [
       "<Figure size 432x288 with 1 Axes>"
      ]
     },
     "metadata": {
      "needs_background": "light"
     },
     "output_type": "display_data"
    }
   ],
   "source": [
    "# Plot accuracy\n",
    "# Train\n",
    "plt.plot([el.item()/600 for el in train_correct], label='Train Accuracy')\n",
    "# Test/val\n",
    "plt.plot([el.item()/100 for el in test_correct], label='Test Accuracy')\n",
    "plt.title('Accuracy by Epoch')\n",
    "plt.legend()"
   ]
  },
  {
   "cell_type": "code",
   "execution_count": 22,
   "metadata": {},
   "outputs": [],
   "source": [
    "# Evaluate all test data\n",
    "test_load_all = DataLoader(test_data, batch_size=10000, shuffle=False)\n",
    "with torch.no_grad():\n",
    "    correct = 0\n",
    "    for X_test,y_test in test_load_all:\n",
    "        pred = model(X_test)\n",
    "        predicted = torch.max(pred,1)[1]\n",
    "        correct += (predicted == y_test).sum()"
   ]
  },
  {
   "cell_type": "code",
   "execution_count": 25,
   "metadata": {},
   "outputs": [
    {
     "name": "stdout",
     "output_type": "stream",
     "text": [
      "Model prediction accuracy of 98.7%!\n"
     ]
    }
   ],
   "source": [
    "acc = (correct.item())/100\n",
    "print(f'Model prediction accuracy of {acc}%!')"
   ]
  },
  {
   "cell_type": "code",
   "execution_count": 28,
   "metadata": {},
   "outputs": [
    {
     "data": {
      "text/plain": [
       "array([[ 978,    0,    1,    0,    0,    0,    0,    1,    0,    0],\n",
       "       [   5, 1128,    0,    0,    0,    0,    0,    0,    2,    0],\n",
       "       [   1,    0, 1026,    0,    0,    0,    1,    3,    1,    0],\n",
       "       [   0,    0,    4, 1002,    0,    1,    0,    1,    2,    0],\n",
       "       [   0,    1,    1,    0,  976,    0,    0,    1,    0,    3],\n",
       "       [   2,    0,    0,    3,    0,  883,    1,    0,    2,    1],\n",
       "       [  16,    3,    2,    0,    5,    4,  927,    0,    1,    0],\n",
       "       [   1,    1,    4,    0,    0,    1,    0, 1017,    2,    2],\n",
       "       [   4,    0,    4,    2,    0,    0,    0,    0,  962,    2],\n",
       "       [   4,    2,    1,    2,    9,    2,    0,    7,   11,  971]],\n",
       "      dtype=int64)"
      ]
     },
     "execution_count": 28,
     "metadata": {},
     "output_type": "execute_result"
    }
   ],
   "source": [
    "# Confusion matrix\n",
    "confusion_matrix(y_test, predicted)"
   ]
  },
  {
   "cell_type": "code",
   "execution_count": 33,
   "metadata": {},
   "outputs": [
    {
     "data": {
      "text/plain": [
       "<matplotlib.image.AxesImage at 0x2772fe41580>"
      ]
     },
     "execution_count": 33,
     "metadata": {},
     "output_type": "execute_result"
    },
    {
     "data": {
      "image/png": "[encoded data removed]",
      "text/plain": [
       "<Figure size 432x288 with 1 Axes>"
      ]
     },
     "metadata": {
      "needs_background": "light"
     },
     "output_type": "display_data"
    }
   ],
   "source": [
    "# Run a single image through the model\n",
    "plt.imshow(test_data[370][0].reshape(28,28))"
   ]
  },
  {
   "cell_type": "code",
   "execution_count": 36,
   "metadata": {},
   "outputs": [
    {
     "name": "stdout",
     "output_type": "stream",
     "text": [
      "Predicted value is 7\n"
     ]
    }
   ],
   "source": [
    "model.eval()\n",
    "with torch.no_grad():\n",
    "    new_pred = model(test_data[370][0].view(1,1,28,28))  # bs, color channel, l, w\n",
    "print(f'Predicted value is {new_pred.argmax().item()}')"
   ]
  }
 ],
 "metadata": {
  "kernelspec": {
   "display_name": "Python 3.8.6 ('ml_env': venv)",
   "language": "python",
   "name": "python3"
  },
  "language_info": {
   "codemirror_mode": {
    "name": "ipython",
    "version": 3
   },
   "file_extension": ".py",
   "mimetype": "text/x-python",
   "name": "python",
   "nbconvert_exporter": "python",
   "pygments_lexer": "ipython3",
   "version": "3.8.6"
  },
  "orig_nbformat": 4,
  "vscode": {
   "interpreter": {
    "hash": "55ed3b3ab9a1955bbb0d7a3066b8de5cfd822c1a9d669ff669eb7c2d03a74e44"
   }
  }
 },
 "nbformat": 4,
 "nbformat_minor": 2
}
