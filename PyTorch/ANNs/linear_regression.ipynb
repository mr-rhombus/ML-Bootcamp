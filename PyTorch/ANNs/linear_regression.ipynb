{
 "cells": [
  {
   "cell_type": "markdown",
   "metadata": {},
   "source": [
    "### Train a linear regression model using PyTorch"
   ]
  },
  {
   "cell_type": "code",
   "execution_count": 25,
   "metadata": {},
   "outputs": [],
   "source": [
    "import torch\n",
    "import numpy as np\n",
    "import matplotlib.pyplot as plt\n",
    "import seaborn as sns\n",
    "import torch.nn as nn"
   ]
  },
  {
   "cell_type": "code",
   "execution_count": 36,
   "metadata": {},
   "outputs": [],
   "source": [
    "# Create col matrix of x vals\n",
    "X = torch.linspace(1,50,50).reshape(-1,1)"
   ]
  },
  {
   "cell_type": "code",
   "execution_count": 37,
   "metadata": {},
   "outputs": [],
   "source": [
    "# Add error term so we don't get a perfectly straight line\n",
    "e = torch.randint(-1,9,(50,1), dtype=torch.float)"
   ]
  },
  {
   "cell_type": "code",
   "execution_count": 10,
   "metadata": {},
   "outputs": [],
   "source": [
    "y = 2*X + 1 + e"
   ]
  },
  {
   "cell_type": "code",
   "execution_count": 11,
   "metadata": {},
   "outputs": [
    {
     "data": {
      "text/plain": [
       "<matplotlib.collections.PathCollection at 0x20fe35b86a0>"
      ]
     },
     "execution_count": 11,
     "metadata": {},
     "output_type": "execute_result"
    },
    {
     "data": {
      "image/png": "[encoded data removed]",
      "text/plain": [
       "<Figure size 432x288 with 1 Axes>"
      ]
     },
     "metadata": {
      "needs_background": "light"
     },
     "output_type": "display_data"
    }
   ],
   "source": [
    "plt.scatter(X.numpy(), y.numpy())"
   ]
  },
  {
   "cell_type": "code",
   "execution_count": 12,
   "metadata": {},
   "outputs": [
    {
     "name": "stdout",
     "output_type": "stream",
     "text": [
      "Weight:  Parameter containing:\n",
      "tensor([[-0.5689]], requires_grad=True)\n",
      "Bias:  Parameter containing:\n",
      "tensor([-0.0345], requires_grad=True)\n"
     ]
    }
   ],
   "source": [
    "# Build linear model\n",
    "model = nn.Linear(in_features=1, out_features=1)  # X has 1 feature, y has 1 feature\n",
    "print('Weight: ', model.weight)\n",
    "print('Bias: ', model.bias)"
   ]
  },
  {
   "cell_type": "code",
   "execution_count": 43,
   "metadata": {},
   "outputs": [],
   "source": [
    "class Model(nn.Module):\n",
    "    def __init__(self, in_features, out_features):\n",
    "        # Inherit from the nn.Module class\n",
    "        super().__init__()\n",
    "        # Define linear layer type\n",
    "        self.linear = nn.Linear(in_features, out_features)\n",
    "\n",
    "    def forward(self, x):\n",
    "        y_pred = self.linear(x)\n",
    "        return y_pred"
   ]
  },
  {
   "cell_type": "code",
   "execution_count": 44,
   "metadata": {},
   "outputs": [
    {
     "name": "stdout",
     "output_type": "stream",
     "text": [
      "Weight:  Parameter containing:\n",
      "tensor([[0.5707]], requires_grad=True)\n",
      "Bias:  Parameter containing:\n",
      "tensor([-0.4134], requires_grad=True)\n"
     ]
    }
   ],
   "source": [
    "model = Model(1,1)\n",
    "print('Weight: ', model.linear.weight)\n",
    "print('Bias: ', model.linear.bias)"
   ]
  },
  {
   "cell_type": "code",
   "execution_count": 45,
   "metadata": {},
   "outputs": [
    {
     "name": "stdout",
     "output_type": "stream",
     "text": [
      "linear.weight:\t0.5706683397293091\n",
      "linear.bias:\t-0.4134176969528198\n"
     ]
    }
   ],
   "source": [
    "for name,param in model.named_parameters():\n",
    "    print(f'{name}:\\t{param.item()}')"
   ]
  },
  {
   "cell_type": "code",
   "execution_count": 46,
   "metadata": {},
   "outputs": [
    {
     "name": "stdout",
     "output_type": "stream",
     "text": [
      "tensor([0.7279], grad_fn=<AddBackward0>)\n"
     ]
    }
   ],
   "source": [
    "# Find value of model when x = 2\n",
    "x = torch.tensor([2.])\n",
    "print(model.forward(x))"
   ]
  },
  {
   "cell_type": "code",
   "execution_count": 47,
   "metadata": {},
   "outputs": [],
   "source": [
    "# Set initial x vals\n",
    "x1 = np.linspace(0,50,50)\n",
    "\n",
    "# Given x1 vals from 0-50, what does the model (with randomly selected weights and biases) think y should be?\n",
    "w1 = model.linear.weight\n",
    "b1 = model.linear.bias\n",
    "\n",
    "# Get predicted y vals from x1\n",
    "y1 = w1*x1 + b1"
   ]
  },
  {
   "cell_type": "code",
   "execution_count": 64,
   "metadata": {},
   "outputs": [
    {
     "data": {
      "text/plain": [
       "<matplotlib.collections.PathCollection at 0x20f84b777c0>"
      ]
     },
     "execution_count": 64,
     "metadata": {},
     "output_type": "execute_result"
    },
    {
     "data": {
      "image/png": "[encoded data removed]",
      "text/plain": [
       "<Figure size 432x288 with 1 Axes>"
      ]
     },
     "metadata": {
      "needs_background": "light"
     },
     "output_type": "display_data"
    }
   ],
   "source": [
    "plt.plot(x1,y1, color='red')\n",
    "plt.scatter(X.numpy(), y.numpy())"
   ]
  },
  {
   "cell_type": "code",
   "execution_count": 65,
   "metadata": {},
   "outputs": [],
   "source": [
    "# The model performs very poorly (as expected), based on the first random guess for weight and bias. We now set the loss function to allow the model to learn and improve."
   ]
  },
  {
   "cell_type": "code",
   "execution_count": 68,
   "metadata": {},
   "outputs": [
    {
     "name": "stdout",
     "output_type": "stream",
     "text": [
      "Epoch 1 loss: 2153.6669921875, weight: 0.5706683397293091, bias: -0.4134176969528198\n",
      "Epoch 2 loss: 1118.23779296875, weight: 3.281754970550537, bias: -0.33045494556427\n",
      "Epoch 3 loss: 583.6802368164062, weight: 1.3336750268936157, bias: -0.3859235346317291\n",
      "Epoch 4 loss: 307.7047424316406, weight: 2.7332773208618164, bias: -0.3419291079044342\n",
      "Epoch 5 loss: 165.22549438476562, weight: 1.7275185585021973, bias: -0.3694024085998535\n",
      "Epoch 6 loss: 91.66586303710938, weight: 2.4500489234924316, bias: -0.3455270528793335\n",
      "Epoch 7 loss: 53.6867561340332, weight: 1.930776834487915, bias: -0.35854849219322205\n",
      "Epoch 8 loss: 34.07673263549805, weight: 2.3037590980529785, bias: -0.3450610041618347\n",
      "Epoch 9 loss: 23.94997787475586, weight: 2.0356428623199463, bias: -0.35062259435653687\n",
      "Epoch 10 loss: 18.719106674194336, weight: 2.228165864944458, bias: -0.34249913692474365\n",
      "Epoch 11 loss: 16.01581573486328, weight: 2.089712381362915, bias: -0.34421059489250183\n",
      "Epoch 12 loss: 14.617405891418457, weight: 2.1890709400177, bias: -0.338857501745224\n",
      "Epoch 13 loss: 13.892674446105957, weight: 2.117558002471924, bias: -0.3385823965072632\n",
      "Epoch 14 loss: 13.515748023986816, weight: 2.168818712234497, bias: -0.33466067910194397\n",
      "Epoch 15 loss: 13.318384170532227, weight: 2.1318647861480713, bias: -0.33336111903190613\n",
      "Epoch 16 loss: 13.213714599609375, weight: 2.158294200897217, bias: -0.33017951250076294\n",
      "Epoch 17 loss: 13.156911849975586, weight: 2.1391820907592773, bias: -0.328352153301239\n",
      "Epoch 18 loss: 13.1248197555542, weight: 2.152792453765869, bias: -0.3255537450313568\n",
      "Epoch 19 loss: 13.105487823486328, weight: 2.1428911685943604, bias: -0.3234550654888153\n",
      "Epoch 20 loss: 13.09274673461914, weight: 2.149883270263672, bias: -0.32085561752319336\n",
      "Epoch 21 loss: 13.083412170410156, weight: 2.1447372436523438, bias: -0.31861793994903564\n",
      "Epoch 22 loss: 13.075833320617676, weight: 2.148313045501709, bias: -0.31612229347229004\n",
      "Epoch 23 loss: 13.069169044494629, weight: 2.1456217765808105, bias: -0.3138140141963959\n",
      "Epoch 24 loss: 13.062982559204102, weight: 2.1474335193634033, bias: -0.3113730847835541\n",
      "Epoch 25 loss: 13.057036399841309, weight: 2.146010160446167, bias: -0.3090294599533081\n",
      "Epoch 26 loss: 13.051219940185547, weight: 2.146911144256592, bias: -0.3066179156303406\n",
      "Epoch 27 loss: 13.045472145080566, weight: 2.1461422443389893, bias: -0.3042571544647217\n",
      "Epoch 28 loss: 13.039769172668457, weight: 2.146573305130005, bias: -0.30186188220977783\n",
      "Epoch 29 loss: 13.03409194946289, weight: 2.14614200592041, bias: -0.2994934022426605\n",
      "Epoch 30 loss: 13.028423309326172, weight: 2.1463303565979004, bias: -0.29710766673088074\n",
      "Epoch 31 loss: 13.022760391235352, weight: 2.146073579788208, bias: -0.2947362959384918\n",
      "Epoch 32 loss: 13.017111778259277, weight: 2.14613676071167, bias: -0.29235658049583435\n",
      "Epoch 33 loss: 13.011468887329102, weight: 2.145970106124878, bias: -0.2899848520755768\n",
      "Epoch 34 loss: 13.005827903747559, weight: 2.1459686756134033, bias: -0.28760936856269836\n",
      "Epoch 35 loss: 13.000200271606445, weight: 2.1458487510681152, bias: -0.2852385640144348\n",
      "Epoch 36 loss: 12.994572639465332, weight: 2.1458137035369873, bias: -0.28286635875701904\n",
      "Epoch 37 loss: 12.988957405090332, weight: 2.1457178592681885, bias: -0.28049713373184204\n",
      "Epoch 38 loss: 12.983338356018066, weight: 2.1456656455993652, bias: -0.2781277596950531\n",
      "Epoch 39 loss: 12.977734565734863, weight: 2.145582437515259, bias: -0.2757604420185089\n",
      "Epoch 40 loss: 12.972124099731445, weight: 2.1455211639404297, bias: -0.2733936309814453\n",
      "Epoch 41 loss: 12.96652603149414, weight: 2.145444393157959, bias: -0.27102842926979065\n",
      "Epoch 42 loss: 12.960933685302734, weight: 2.145378828048706, bias: -0.26866403222084045\n",
      "Epoch 43 loss: 12.955339431762695, weight: 2.1453051567077637, bias: -0.2663010358810425\n",
      "Epoch 44 loss: 12.949760437011719, weight: 2.145237684249878, bias: -0.2639389932155609\n",
      "Epoch 45 loss: 12.944182395935059, weight: 2.14516544342041, bias: -0.261578232049942\n",
      "Epoch 46 loss: 12.938615798950195, weight: 2.145097017288208, bias: -0.2592185139656067\n",
      "Epoch 47 loss: 12.933048248291016, weight: 2.1450254917144775, bias: -0.25686001777648926\n",
      "Epoch 48 loss: 12.927485466003418, weight: 2.144956588745117, bias: -0.2545025944709778\n",
      "Epoch 49 loss: 12.921935081481934, weight: 2.144885778427124, bias: -0.2521463632583618\n",
      "Epoch 50 loss: 12.916378021240234, weight: 2.1448163986206055, bias: -0.2497912496328354\n"
     ]
    }
   ],
   "source": [
    "# Loss function - called \"criterion\" bc it is the criteria on which we evaluate network performance\n",
    "criterion = nn.MSELoss()\n",
    "\n",
    "# Stochastic Gradient Descent optimizer has applied learning rate. LR tells optimizer how much to adjust each param on each round of calcs. Too large of a step risks overshooting minimum. Too small risks taking too long to converge.\n",
    "optimizer = torch.optim.SGD(model.parameters(), lr=0.001)  # Good starting learning rate is 0.001, but often requires experimentation\n",
    "\n",
    "# Epoch = single pass through entire dataset. Want to pick a sufficiently large # of epochs so our weight plateaus near 2 and bias plateaus near 1. Often requires experimentation, which can be helped by keeping track of the loss.\n",
    "epochs = 50\n",
    "losses = []\n",
    "\n",
    "for i in range(epochs):\n",
    "    i += 1\n",
    "    # Predict on forward pass\n",
    "    y_pred = model.forward(X)\n",
    "    # Calculate loss (error)\n",
    "    loss = criterion(y_pred, y)\n",
    "    # Record error\n",
    "    losses.append(loss)\n",
    "    print(f'Epoch {i} loss: {loss.item()}, weight: {model.linear.weight.item()}, bias: {model.linear.bias.item()}')\n",
    "\n",
    "    # Adjust weight and bias. Gradients accumulate with every backprop, so we reset gradient with each new epoch\n",
    "    optimizer.zero_grad()  # Resets gradient\n",
    "\n",
    "    # Perform backpropagation\n",
    "    loss.backward()\n",
    "    optimizer.step()  # Update hyperparameters"
   ]
  },
  {
   "cell_type": "code",
   "execution_count": 79,
   "metadata": {},
   "outputs": [
    {
     "data": {
      "text/plain": [
       "Text(0.5, 0, 'Epoch')"
      ]
     },
     "execution_count": 79,
     "metadata": {},
     "output_type": "execute_result"
    },
    {
     "data": {
      "image/png": "[encoded data removed]",
      "text/plain": [
       "<Figure size 432x288 with 1 Axes>"
      ]
     },
     "metadata": {
      "needs_background": "light"
     },
     "output_type": "display_data"
    }
   ],
   "source": [
    "plt.plot(range(epochs), [el.item() for el in losses])\n",
    "plt.ylabel('MSE LOSS')\n",
    "plt.xlabel('Epoch')"
   ]
  },
  {
   "cell_type": "code",
   "execution_count": 86,
   "metadata": {},
   "outputs": [
    {
     "data": {
      "text/plain": [
       "tensor([  1.8973,   4.0421,   6.1868,   8.3315,  10.4763,  12.6210,  14.7658,\n",
       "         16.9105,  19.0553,  21.2000,  23.3448,  25.4895,  27.6343,  29.7790,\n",
       "         31.9238,  34.0685,  36.2132,  38.3580,  40.5027,  42.6475,  44.7922,\n",
       "         46.9370,  49.0817,  51.2265,  53.3712,  55.5160,  57.6607,  59.8055,\n",
       "         61.9502,  64.0949,  66.2397,  68.3844,  70.5292,  72.6739,  74.8187,\n",
       "         76.9634,  79.1082,  81.2529,  83.3977,  85.5424,  87.6871,  89.8319,\n",
       "         91.9766,  94.1214,  96.2661,  98.4109, 100.5556, 102.7004, 104.8451,\n",
       "        106.9899])"
      ]
     },
     "execution_count": 86,
     "metadata": {},
     "output_type": "execute_result"
    }
   ],
   "source": [
    "x = np.linspace(0.0,50.0,50)\n",
    "current_weight = model.linear.weight.item()\n",
    "current_bias = model.linear.bias.item()\n",
    "\n",
    "predicted_y = current_weight*X + current_bias\n",
    "preds = predicted_y.reshape(1,50)[0]\n",
    "preds"
   ]
  },
  {
   "cell_type": "code",
   "execution_count": 89,
   "metadata": {},
   "outputs": [
    {
     "data": {
      "text/plain": [
       "[<matplotlib.lines.Line2D at 0x20f8648d2e0>]"
      ]
     },
     "execution_count": 89,
     "metadata": {},
     "output_type": "execute_result"
    },
    {
     "data": {
      "image/png": "[encoded data removed]",
      "text/plain": [
       "<Figure size 432x288 with 1 Axes>"
      ]
     },
     "metadata": {
      "needs_background": "light"
     },
     "output_type": "display_data"
    }
   ],
   "source": [
    "plt.scatter(X.numpy(), y.numpy())\n",
    "plt.plot(x, preds, color='red')"
   ]
  },
  {
   "cell_type": "code",
   "execution_count": null,
   "metadata": {},
   "outputs": [],
   "source": [
    "# This looks much better!"
   ]
  }
 ],
 "metadata": {
  "kernelspec": {
   "display_name": "Python 3.8.6 ('ml_env': venv)",
   "language": "python",
   "name": "python3"
  },
  "language_info": {
   "codemirror_mode": {
    "name": "ipython",
    "version": 3
   },
   "file_extension": ".py",
   "mimetype": "text/x-python",
   "name": "python",
   "nbconvert_exporter": "python",
   "pygments_lexer": "ipython3",
   "version": "3.8.6"
  },
  "orig_nbformat": 4,
  "vscode": {
   "interpreter": {
    "hash": "55ed3b3ab9a1955bbb0d7a3066b8de5cfd822c1a9d669ff669eb7c2d03a74e44"
   }
  }
 },
 "nbformat": 4,
 "nbformat_minor": 2
}
