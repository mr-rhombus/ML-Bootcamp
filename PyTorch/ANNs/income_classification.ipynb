{
 "cells": [
  {
   "cell_type": "markdown",
   "metadata": {},
   "source": [
    "### Determine if an individual makes >$50k based on Census data\n",
    "Use the Census income dataset from UC Irvine Machine Learning Repository to determine if an individual makes more than $50k from a set of continous and categorical features"
   ]
  },
  {
   "cell_type": "code",
   "execution_count": 54,
   "metadata": {},
   "outputs": [],
   "source": [
    "import torch\n",
    "import torch.nn as nn\n",
    "import numpy as np\n",
    "import pandas as pd"
   ]
  },
  {
   "cell_type": "markdown",
   "metadata": {},
   "source": [
    "### Explore data"
   ]
  },
  {
   "cell_type": "code",
   "execution_count": 55,
   "metadata": {},
   "outputs": [
    {
     "data": {
      "text/html": [
       "<div>\n",
       "<style scoped>\n",
       "    .dataframe tbody tr th:only-of-type {\n",
       "        vertical-align: middle;\n",
       "    }\n",
       "\n",
       "    .dataframe tbody tr th {\n",
       "        vertical-align: top;\n",
       "    }\n",
       "\n",
       "    .dataframe thead th {\n",
       "        text-align: right;\n",
       "    }\n",
       "</style>\n",
       "<table border=\"1\" class=\"dataframe\">\n",
       "  <thead>\n",
       "    <tr style=\"text-align: right;\">\n",
       "      <th></th>\n",
       "      <th>age</th>\n",
       "      <th>sex</th>\n",
       "      <th>education</th>\n",
       "      <th>education-num</th>\n",
       "      <th>marital-status</th>\n",
       "      <th>workclass</th>\n",
       "      <th>occupation</th>\n",
       "      <th>hours-per-week</th>\n",
       "      <th>income</th>\n",
       "      <th>label</th>\n",
       "    </tr>\n",
       "  </thead>\n",
       "  <tbody>\n",
       "    <tr>\n",
       "      <th>0</th>\n",
       "      <td>27</td>\n",
       "      <td>Male</td>\n",
       "      <td>HS-grad</td>\n",
       "      <td>9</td>\n",
       "      <td>Never-married</td>\n",
       "      <td>Private</td>\n",
       "      <td>Craft-repair</td>\n",
       "      <td>40</td>\n",
       "      <td>&lt;=50K</td>\n",
       "      <td>0</td>\n",
       "    </tr>\n",
       "    <tr>\n",
       "      <th>1</th>\n",
       "      <td>47</td>\n",
       "      <td>Male</td>\n",
       "      <td>Masters</td>\n",
       "      <td>14</td>\n",
       "      <td>Married</td>\n",
       "      <td>Local-gov</td>\n",
       "      <td>Exec-managerial</td>\n",
       "      <td>50</td>\n",
       "      <td>&gt;50K</td>\n",
       "      <td>1</td>\n",
       "    </tr>\n",
       "    <tr>\n",
       "      <th>2</th>\n",
       "      <td>59</td>\n",
       "      <td>Male</td>\n",
       "      <td>HS-grad</td>\n",
       "      <td>9</td>\n",
       "      <td>Divorced</td>\n",
       "      <td>Self-emp</td>\n",
       "      <td>Prof-specialty</td>\n",
       "      <td>20</td>\n",
       "      <td>&lt;=50K</td>\n",
       "      <td>0</td>\n",
       "    </tr>\n",
       "    <tr>\n",
       "      <th>3</th>\n",
       "      <td>38</td>\n",
       "      <td>Female</td>\n",
       "      <td>Prof-school</td>\n",
       "      <td>15</td>\n",
       "      <td>Never-married</td>\n",
       "      <td>Federal-gov</td>\n",
       "      <td>Prof-specialty</td>\n",
       "      <td>57</td>\n",
       "      <td>&gt;50K</td>\n",
       "      <td>1</td>\n",
       "    </tr>\n",
       "    <tr>\n",
       "      <th>4</th>\n",
       "      <td>64</td>\n",
       "      <td>Female</td>\n",
       "      <td>11th</td>\n",
       "      <td>7</td>\n",
       "      <td>Widowed</td>\n",
       "      <td>Private</td>\n",
       "      <td>Farming-fishing</td>\n",
       "      <td>40</td>\n",
       "      <td>&lt;=50K</td>\n",
       "      <td>0</td>\n",
       "    </tr>\n",
       "  </tbody>\n",
       "</table>\n",
       "</div>"
      ],
      "text/plain": [
       "   age     sex    education  education-num marital-status    workclass  \\\n",
       "0   27    Male      HS-grad              9  Never-married      Private   \n",
       "1   47    Male      Masters             14        Married    Local-gov   \n",
       "2   59    Male      HS-grad              9       Divorced     Self-emp   \n",
       "3   38  Female  Prof-school             15  Never-married  Federal-gov   \n",
       "4   64  Female         11th              7        Widowed      Private   \n",
       "\n",
       "        occupation  hours-per-week income  label  \n",
       "0     Craft-repair              40  <=50K      0  \n",
       "1  Exec-managerial              50   >50K      1  \n",
       "2   Prof-specialty              20  <=50K      0  \n",
       "3   Prof-specialty              57   >50K      1  \n",
       "4  Farming-fishing              40  <=50K      0  "
      ]
     },
     "execution_count": 55,
     "metadata": {},
     "output_type": "execute_result"
    }
   ],
   "source": [
    "df = pd.read_csv('../Data/income.csv')\n",
    "df.head()"
   ]
  },
  {
   "cell_type": "code",
   "execution_count": 56,
   "metadata": {},
   "outputs": [
    {
     "data": {
      "text/plain": [
       "0    21700\n",
       "1     8300\n",
       "Name: label, dtype: int64"
      ]
     },
     "execution_count": 56,
     "metadata": {},
     "output_type": "execute_result"
    }
   ],
   "source": [
    "# How many vals in each target class?\n",
    "df['label'].value_counts()\n",
    "# Looks evenly distributed enough"
   ]
  },
  {
   "cell_type": "code",
   "execution_count": 57,
   "metadata": {},
   "outputs": [
    {
     "data": {
      "text/plain": [
       "[('5th-6th', 3),\n",
       " ('7th-8th', 4),\n",
       " ('9th', 5),\n",
       " ('10th', 6),\n",
       " ('11th', 7),\n",
       " ('12th', 8),\n",
       " ('HS-grad', 9),\n",
       " ('Some-college', 10),\n",
       " ('Assoc-voc', 11),\n",
       " ('Assoc-acdm', 12),\n",
       " ('Bachelors', 13),\n",
       " ('Masters', 14),\n",
       " ('Prof-school', 15),\n",
       " ('Doctorate', 16)]"
      ]
     },
     "execution_count": 57,
     "metadata": {},
     "output_type": "execute_result"
    }
   ],
   "source": [
    "# Explore relationship between education and education-num cols\n",
    "ed = df['education']\n",
    "ed_num = df['education-num']\n",
    "unique_combos = list(set(zip(ed,ed_num)))\n",
    "unique_combos.sort(key=lambda x:x[1])\n",
    "unique_combos\n",
    "# It looks like we have a 1:1 mapping between the two, so we can ignore one of them"
   ]
  },
  {
   "cell_type": "code",
   "execution_count": 58,
   "metadata": {},
   "outputs": [
    {
     "data": {
      "text/plain": [
       "array(['Craft-repair', 'Exec-managerial', 'Prof-specialty',\n",
       "       'Farming-fishing', 'Handlers-cleaners', 'Machine-op-inspct',\n",
       "       'Adm-clerical', 'Other-service', 'Sales', 'Tech-support',\n",
       "       'Protective-serv', 'Transport-moving'], dtype=object)"
      ]
     },
     "execution_count": 58,
     "metadata": {},
     "output_type": "execute_result"
    }
   ],
   "source": [
    "# How many occupations are in the data?\n",
    "df['occupation'].unique()\n",
    "# Not too many where we'd need to feature engineer or consider consolidating"
   ]
  },
  {
   "cell_type": "code",
   "execution_count": 59,
   "metadata": {},
   "outputs": [
    {
     "data": {
      "text/plain": [
       "72"
      ]
     },
     "execution_count": 59,
     "metadata": {},
     "output_type": "execute_result"
    }
   ],
   "source": [
    "# How many ages?\n",
    "df['age'].nunique()\n",
    "# Lots of ages, so we will treat this as continuous"
   ]
  },
  {
   "cell_type": "code",
   "execution_count": 60,
   "metadata": {},
   "outputs": [],
   "source": [
    "# No real need to do feature engineering, so we can move on to separating categorical and continuous feats"
   ]
  },
  {
   "cell_type": "markdown",
   "metadata": {},
   "source": [
    "### Split categorical and continuous cols"
   ]
  },
  {
   "cell_type": "code",
   "execution_count": 61,
   "metadata": {},
   "outputs": [
    {
     "data": {
      "text/html": [
       "<div>\n",
       "<style scoped>\n",
       "    .dataframe tbody tr th:only-of-type {\n",
       "        vertical-align: middle;\n",
       "    }\n",
       "\n",
       "    .dataframe tbody tr th {\n",
       "        vertical-align: top;\n",
       "    }\n",
       "\n",
       "    .dataframe thead th {\n",
       "        text-align: right;\n",
       "    }\n",
       "</style>\n",
       "<table border=\"1\" class=\"dataframe\">\n",
       "  <thead>\n",
       "    <tr style=\"text-align: right;\">\n",
       "      <th></th>\n",
       "      <th>age</th>\n",
       "      <th>sex</th>\n",
       "      <th>education</th>\n",
       "      <th>education-num</th>\n",
       "      <th>marital-status</th>\n",
       "      <th>workclass</th>\n",
       "      <th>occupation</th>\n",
       "      <th>hours-per-week</th>\n",
       "      <th>income</th>\n",
       "      <th>label</th>\n",
       "    </tr>\n",
       "  </thead>\n",
       "  <tbody>\n",
       "    <tr>\n",
       "      <th>0</th>\n",
       "      <td>27</td>\n",
       "      <td>Male</td>\n",
       "      <td>HS-grad</td>\n",
       "      <td>9</td>\n",
       "      <td>Never-married</td>\n",
       "      <td>Private</td>\n",
       "      <td>Craft-repair</td>\n",
       "      <td>40</td>\n",
       "      <td>&lt;=50K</td>\n",
       "      <td>0</td>\n",
       "    </tr>\n",
       "    <tr>\n",
       "      <th>1</th>\n",
       "      <td>47</td>\n",
       "      <td>Male</td>\n",
       "      <td>Masters</td>\n",
       "      <td>14</td>\n",
       "      <td>Married</td>\n",
       "      <td>Local-gov</td>\n",
       "      <td>Exec-managerial</td>\n",
       "      <td>50</td>\n",
       "      <td>&gt;50K</td>\n",
       "      <td>1</td>\n",
       "    </tr>\n",
       "    <tr>\n",
       "      <th>2</th>\n",
       "      <td>59</td>\n",
       "      <td>Male</td>\n",
       "      <td>HS-grad</td>\n",
       "      <td>9</td>\n",
       "      <td>Divorced</td>\n",
       "      <td>Self-emp</td>\n",
       "      <td>Prof-specialty</td>\n",
       "      <td>20</td>\n",
       "      <td>&lt;=50K</td>\n",
       "      <td>0</td>\n",
       "    </tr>\n",
       "    <tr>\n",
       "      <th>3</th>\n",
       "      <td>38</td>\n",
       "      <td>Female</td>\n",
       "      <td>Prof-school</td>\n",
       "      <td>15</td>\n",
       "      <td>Never-married</td>\n",
       "      <td>Federal-gov</td>\n",
       "      <td>Prof-specialty</td>\n",
       "      <td>57</td>\n",
       "      <td>&gt;50K</td>\n",
       "      <td>1</td>\n",
       "    </tr>\n",
       "    <tr>\n",
       "      <th>4</th>\n",
       "      <td>64</td>\n",
       "      <td>Female</td>\n",
       "      <td>11th</td>\n",
       "      <td>7</td>\n",
       "      <td>Widowed</td>\n",
       "      <td>Private</td>\n",
       "      <td>Farming-fishing</td>\n",
       "      <td>40</td>\n",
       "      <td>&lt;=50K</td>\n",
       "      <td>0</td>\n",
       "    </tr>\n",
       "  </tbody>\n",
       "</table>\n",
       "</div>"
      ],
      "text/plain": [
       "   age     sex    education  education-num marital-status    workclass  \\\n",
       "0   27    Male      HS-grad              9  Never-married      Private   \n",
       "1   47    Male      Masters             14        Married    Local-gov   \n",
       "2   59    Male      HS-grad              9       Divorced     Self-emp   \n",
       "3   38  Female  Prof-school             15  Never-married  Federal-gov   \n",
       "4   64  Female         11th              7        Widowed      Private   \n",
       "\n",
       "        occupation  hours-per-week income  label  \n",
       "0     Craft-repair              40  <=50K      0  \n",
       "1  Exec-managerial              50   >50K      1  \n",
       "2   Prof-specialty              20  <=50K      0  \n",
       "3   Prof-specialty              57   >50K      1  \n",
       "4  Farming-fishing              40  <=50K      0  "
      ]
     },
     "execution_count": 61,
     "metadata": {},
     "output_type": "execute_result"
    }
   ],
   "source": [
    "df.head()"
   ]
  },
  {
   "cell_type": "code",
   "execution_count": 62,
   "metadata": {},
   "outputs": [],
   "source": [
    "target = 'label'\n",
    "cat_cols = ['sex', 'education-num', 'marital-status', 'workclass', 'occupation']\n",
    "cont_cols = ['age', 'hours-per-week']\n",
    "\n",
    "# Change categorical cols to category dtype\n",
    "for col in cat_cols:\n",
    "    df[col] = df[col].astype('category')\n",
    "\n",
    "# Turn categorical cols ino numpy arrays. Assign #s to each category\n",
    "cats = np.stack([df[col].cat.codes.values for col in cat_cols], axis=1)\n",
    "\n",
    "# Convert to PyTorch tensor\n",
    "cats = torch.tensor(cats, dtype=torch.int64)\n",
    "\n",
    "# Do the same with the continuous cols\n",
    "conts = np.stack([df[col].values for col in cont_cols], axis=1)\n",
    "conts = torch.tensor(conts, dtype=torch.float)\n",
    "\n",
    "# Reshape target col to be columnar\n",
    "target = torch.tensor(df[target], dtype=torch.int64).reshape(-1,1)"
   ]
  },
  {
   "cell_type": "markdown",
   "metadata": {},
   "source": [
    "### Create embeddings for categorical cols"
   ]
  },
  {
   "cell_type": "code",
   "execution_count": 63,
   "metadata": {},
   "outputs": [
    {
     "name": "stdout",
     "output_type": "stream",
     "text": [
      "[(# of categories, # embeddings), ...] = [(2, 1), (14, 7), (6, 3), (5, 3), (12, 6)]\n"
     ]
    }
   ],
   "source": [
    "# Determine # of categories in each categorical feature\n",
    "cat_szs = [len(df[col].cat.categories) for col in cat_cols]\n",
    "\n",
    "# Embeddings per category = min(50, sz/2) for each categorical col\n",
    "emb_szs  = [(size, min(50, (size+1)//2)) for size in cat_szs]\n",
    "print(f'[(# of categories, # embeddings), ...] = {emb_szs}')"
   ]
  },
  {
   "cell_type": "code",
   "execution_count": 64,
   "metadata": {},
   "outputs": [
    {
     "name": "stdout",
     "output_type": "stream",
     "text": [
      "Embeddings = [Embedding(2, 1), Embedding(14, 7), Embedding(6, 3), Embedding(5, 3), Embedding(12, 6)]\n"
     ]
    }
   ],
   "source": [
    "# Pass cat cols and # of embeddings per to the embedding module\n",
    "embeds = [nn.Embedding(n_cats, n_embs) for n_cats,n_embs in emb_szs]\n",
    "print(f'Embeddings = {embeds}')"
   ]
  },
  {
   "cell_type": "code",
   "execution_count": 65,
   "metadata": {},
   "outputs": [
    {
     "name": "stdout",
     "output_type": "stream",
     "text": [
      "Embeddings ModuleList:\n",
      "ModuleList(\n",
      "  (0): Embedding(2, 1)\n",
      "  (1): Embedding(14, 7)\n",
      "  (2): Embedding(6, 3)\n",
      "  (3): Embedding(5, 3)\n",
      "  (4): Embedding(12, 6)\n",
      ")\n"
     ]
    }
   ],
   "source": [
    "# Create a ModuleList from embeddings\n",
    "embeds_mod_list = nn.ModuleList(embeds)\n",
    "print(f'Embeddings ModuleList:\\n{embeds_mod_list}')\n",
    "\n",
    "# The embeddings apply weights to categories. These weights are updated during .backward, allowing the model to learn. See the ny_taxis nb for an example of how the embeddings look for a subset of categorical col categories."
   ]
  },
  {
   "cell_type": "markdown",
   "metadata": {},
   "source": [
    "### Define Tabular model"
   ]
  },
  {
   "cell_type": "code",
   "execution_count": 89,
   "metadata": {},
   "outputs": [],
   "source": [
    "class TabularModel(nn.Module):\n",
    "\n",
    "    def __init__(self, emb_szs, n_cont, out_sz, layers, p=0.5):\n",
    "        \"\"\"Initialize the tabular model\n",
    "\n",
    "        :param emb_szs: List of tuples mapping # of categories and # of embeddings per categorical col\n",
    "        :type emb_szs: list\n",
    "        :param n_cont: # of continuous cols\n",
    "        :type n_cont: int\n",
    "        :param out_sz: Output size\n",
    "        :type out_sz: int\n",
    "        :param layers: Layer size(s)\n",
    "        :type layers: list\n",
    "        :param p: Probability of dropout layer, defaults to 0.5\n",
    "        :type p: float, optional\n",
    "        \"\"\"\n",
    "        \n",
    "        # Inherit from nn.Module class\n",
    "        super().__init__()\n",
    "\n",
    "        # Create embeddings for categorical cols\n",
    "        self.embeds = nn.ModuleList([nn.Embedding(n_cats, n_embs) for n_cats,n_embs in emb_szs])\n",
    "        # Create dropout layer - probability embedding(s) will be dropped\n",
    "        self.emb_drop = nn.Dropout(p)\n",
    "        # Normalize continuous data\n",
    "        self.bn_cont = nn.BatchNorm1d(n_cont)\n",
    "\n",
    "        # Establish sequence of NN layers. Each layer will include a linear fn, an activation fn (ReLU), a normalization step and a dropout layer\n",
    "        layerlist = []\n",
    "        n_embs = sum([n_embs for n_cats,n_embs in emb_szs])\n",
    "        n_in = n_embs + n_cont\n",
    "\n",
    "        # Iteratively build network based on layers param\n",
    "        for i in layers:\n",
    "            layerlist.append(nn.Linear(n_in, i))\n",
    "            layerlist.append(nn.ReLU(inplace=True))\n",
    "            layerlist.append(nn.BatchNorm1d(i))\n",
    "            layerlist.append(nn.Dropout(p))\n",
    "            n_in = i\n",
    "\n",
    "        # Define output linear layer\n",
    "        layerlist.append(nn.Linear(layers[-1], 2))\n",
    "\n",
    "        # Combine list of layers\n",
    "        self.layers = nn.Sequential(*layerlist)\n",
    "\n",
    "    def forward(self, x_cat, x_cont):\n",
    "        \"\"\"Define how the model will move forward\n",
    "\n",
    "        :param x_cat: Categorical features\n",
    "        :type x_cat: torch.tensor\n",
    "        :param x_cont: Continuous features\n",
    "        :type x_cont: torch.tensor\n",
    "        \"\"\"\n",
    "        embeddings = []\n",
    "\n",
    "        # Track embeddings separately for each categorical column, and each value within the column\n",
    "        for i,e in enumerate(self.embeds):\n",
    "            embeddings.append(e(x_cat[:,i]))\n",
    "\n",
    "        # Combine all embeddings into a single tensor per row, tracking all categorical col embeddings\n",
    "        x = torch.cat(embeddings,1)\n",
    "\n",
    "        # Add continuous feats to the mix\n",
    "        x_cont = self.bn_cont(x_cont)  # Normalize cont feats\n",
    "        x = torch.cat([x,x_cont], 1)\n",
    "        x = self.layers(x)\n",
    "        return x"
   ]
  },
  {
   "cell_type": "markdown",
   "metadata": {},
   "source": [
    "### Create and train model"
   ]
  },
  {
   "cell_type": "code",
   "execution_count": null,
   "metadata": {},
   "outputs": [],
   "source": [
    "model = TabularModel()"
   ]
  }
 ],
 "metadata": {
  "kernelspec": {
   "display_name": "Python 3.8.6 ('ml_env': venv)",
   "language": "python",
   "name": "python3"
  },
  "language_info": {
   "codemirror_mode": {
    "name": "ipython",
    "version": 3
   },
   "file_extension": ".py",
   "mimetype": "text/x-python",
   "name": "python",
   "nbconvert_exporter": "python",
   "pygments_lexer": "ipython3",
   "version": "3.8.6"
  },
  "orig_nbformat": 4,
  "vscode": {
   "interpreter": {
    "hash": "55ed3b3ab9a1955bbb0d7a3066b8de5cfd822c1a9d669ff669eb7c2d03a74e44"
   }
  }
 },
 "nbformat": 4,
 "nbformat_minor": 2
}
