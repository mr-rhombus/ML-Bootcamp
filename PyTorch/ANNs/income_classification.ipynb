{
 "cells": [
  {
   "cell_type": "markdown",
   "metadata": {},
   "source": [
    "### Determine if an individual makes >$50k based on Census data\n",
    "Use the Census income dataset from UC Irvine Machine Learning Repository to determine if an individual makes more than $50k from a set of continous and categorical features"
   ]
  },
  {
   "cell_type": "code",
   "execution_count": 13,
   "metadata": {},
   "outputs": [],
   "source": [
    "import torch\n",
    "import torch.nn as nn\n",
    "import numpy as np\n",
    "import pandas as pd\n",
    "from sklearn.utils import shuffle"
   ]
  },
  {
   "cell_type": "markdown",
   "metadata": {},
   "source": [
    "### Explore data"
   ]
  },
  {
   "cell_type": "code",
   "execution_count": 14,
   "metadata": {},
   "outputs": [
    {
     "data": {
      "text/html": [
       "<div>\n",
       "<style scoped>\n",
       "    .dataframe tbody tr th:only-of-type {\n",
       "        vertical-align: middle;\n",
       "    }\n",
       "\n",
       "    .dataframe tbody tr th {\n",
       "        vertical-align: top;\n",
       "    }\n",
       "\n",
       "    .dataframe thead th {\n",
       "        text-align: right;\n",
       "    }\n",
       "</style>\n",
       "<table border=\"1\" class=\"dataframe\">\n",
       "  <thead>\n",
       "    <tr style=\"text-align: right;\">\n",
       "      <th></th>\n",
       "      <th>age</th>\n",
       "      <th>sex</th>\n",
       "      <th>education</th>\n",
       "      <th>education-num</th>\n",
       "      <th>marital-status</th>\n",
       "      <th>workclass</th>\n",
       "      <th>occupation</th>\n",
       "      <th>hours-per-week</th>\n",
       "      <th>income</th>\n",
       "      <th>label</th>\n",
       "    </tr>\n",
       "  </thead>\n",
       "  <tbody>\n",
       "    <tr>\n",
       "      <th>0</th>\n",
       "      <td>60</td>\n",
       "      <td>Female</td>\n",
       "      <td>Some-college</td>\n",
       "      <td>10</td>\n",
       "      <td>Widowed</td>\n",
       "      <td>Private</td>\n",
       "      <td>Exec-managerial</td>\n",
       "      <td>40</td>\n",
       "      <td>&lt;=50K</td>\n",
       "      <td>0</td>\n",
       "    </tr>\n",
       "    <tr>\n",
       "      <th>1</th>\n",
       "      <td>25</td>\n",
       "      <td>Male</td>\n",
       "      <td>Masters</td>\n",
       "      <td>14</td>\n",
       "      <td>Never-married</td>\n",
       "      <td>Private</td>\n",
       "      <td>Prof-specialty</td>\n",
       "      <td>35</td>\n",
       "      <td>&lt;=50K</td>\n",
       "      <td>0</td>\n",
       "    </tr>\n",
       "    <tr>\n",
       "      <th>2</th>\n",
       "      <td>32</td>\n",
       "      <td>Male</td>\n",
       "      <td>Bachelors</td>\n",
       "      <td>13</td>\n",
       "      <td>Married</td>\n",
       "      <td>Private</td>\n",
       "      <td>Handlers-cleaners</td>\n",
       "      <td>40</td>\n",
       "      <td>&lt;=50K</td>\n",
       "      <td>0</td>\n",
       "    </tr>\n",
       "    <tr>\n",
       "      <th>3</th>\n",
       "      <td>38</td>\n",
       "      <td>Male</td>\n",
       "      <td>Bachelors</td>\n",
       "      <td>13</td>\n",
       "      <td>Married</td>\n",
       "      <td>Private</td>\n",
       "      <td>Exec-managerial</td>\n",
       "      <td>55</td>\n",
       "      <td>&gt;50K</td>\n",
       "      <td>1</td>\n",
       "    </tr>\n",
       "    <tr>\n",
       "      <th>4</th>\n",
       "      <td>33</td>\n",
       "      <td>Male</td>\n",
       "      <td>Bachelors</td>\n",
       "      <td>13</td>\n",
       "      <td>Never-married</td>\n",
       "      <td>Private</td>\n",
       "      <td>Handlers-cleaners</td>\n",
       "      <td>30</td>\n",
       "      <td>&lt;=50K</td>\n",
       "      <td>0</td>\n",
       "    </tr>\n",
       "  </tbody>\n",
       "</table>\n",
       "</div>"
      ],
      "text/plain": [
       "   age     sex     education  education-num marital-status workclass  \\\n",
       "0   60  Female  Some-college             10        Widowed   Private   \n",
       "1   25    Male       Masters             14  Never-married   Private   \n",
       "2   32    Male     Bachelors             13        Married   Private   \n",
       "3   38    Male     Bachelors             13        Married   Private   \n",
       "4   33    Male     Bachelors             13  Never-married   Private   \n",
       "\n",
       "          occupation  hours-per-week income  label  \n",
       "0    Exec-managerial              40  <=50K      0  \n",
       "1     Prof-specialty              35  <=50K      0  \n",
       "2  Handlers-cleaners              40  <=50K      0  \n",
       "3    Exec-managerial              55   >50K      1  \n",
       "4  Handlers-cleaners              30  <=50K      0  "
      ]
     },
     "execution_count": 14,
     "metadata": {},
     "output_type": "execute_result"
    }
   ],
   "source": [
    "df = pd.read_csv('../Data/income.csv')\n",
    "\n",
    "df = shuffle(df, random_state=37)\n",
    "df.reset_index(drop=True, inplace=True)\n",
    "\n",
    "df.head()"
   ]
  },
  {
   "cell_type": "code",
   "execution_count": 15,
   "metadata": {},
   "outputs": [
    {
     "data": {
      "text/plain": [
       "0    21700\n",
       "1     8300\n",
       "Name: label, dtype: int64"
      ]
     },
     "execution_count": 15,
     "metadata": {},
     "output_type": "execute_result"
    }
   ],
   "source": [
    "# How many vals in each target class?\n",
    "df['label'].value_counts()\n",
    "# Looks evenly distributed enough"
   ]
  },
  {
   "cell_type": "code",
   "execution_count": 16,
   "metadata": {},
   "outputs": [
    {
     "data": {
      "text/plain": [
       "[('5th-6th', 3),\n",
       " ('7th-8th', 4),\n",
       " ('9th', 5),\n",
       " ('10th', 6),\n",
       " ('11th', 7),\n",
       " ('12th', 8),\n",
       " ('HS-grad', 9),\n",
       " ('Some-college', 10),\n",
       " ('Assoc-voc', 11),\n",
       " ('Assoc-acdm', 12),\n",
       " ('Bachelors', 13),\n",
       " ('Masters', 14),\n",
       " ('Prof-school', 15),\n",
       " ('Doctorate', 16)]"
      ]
     },
     "execution_count": 16,
     "metadata": {},
     "output_type": "execute_result"
    }
   ],
   "source": [
    "# Explore relationship between education and education-num cols\n",
    "ed = df['education']\n",
    "ed_num = df['education-num']\n",
    "unique_combos = list(set(zip(ed,ed_num)))\n",
    "unique_combos.sort(key=lambda x:x[1])\n",
    "unique_combos\n",
    "# It looks like we have a 1:1 mapping between the two, so we can ignore one of them"
   ]
  },
  {
   "cell_type": "code",
   "execution_count": 17,
   "metadata": {},
   "outputs": [
    {
     "data": {
      "text/plain": [
       "array(['Exec-managerial', 'Prof-specialty', 'Handlers-cleaners',\n",
       "       'Machine-op-inspct', 'Other-service', 'Tech-support',\n",
       "       'Adm-clerical', 'Transport-moving', 'Craft-repair', 'Sales',\n",
       "       'Farming-fishing', 'Protective-serv'], dtype=object)"
      ]
     },
     "execution_count": 17,
     "metadata": {},
     "output_type": "execute_result"
    }
   ],
   "source": [
    "# How many occupations are in the data?\n",
    "df['occupation'].unique()\n",
    "# Not too many where we'd need to feature engineer or consider consolidating"
   ]
  },
  {
   "cell_type": "code",
   "execution_count": 18,
   "metadata": {},
   "outputs": [
    {
     "data": {
      "text/plain": [
       "72"
      ]
     },
     "execution_count": 18,
     "metadata": {},
     "output_type": "execute_result"
    }
   ],
   "source": [
    "# How many ages?\n",
    "df['age'].nunique()\n",
    "# Lots of ages, so we will treat this as continuous"
   ]
  },
  {
   "cell_type": "code",
   "execution_count": 19,
   "metadata": {},
   "outputs": [],
   "source": [
    "# No real need to do feature engineering, so we can move on to separating categorical and continuous feats"
   ]
  },
  {
   "cell_type": "markdown",
   "metadata": {},
   "source": [
    "### Split categorical and continuous cols"
   ]
  },
  {
   "cell_type": "code",
   "execution_count": 20,
   "metadata": {},
   "outputs": [
    {
     "data": {
      "text/html": [
       "<div>\n",
       "<style scoped>\n",
       "    .dataframe tbody tr th:only-of-type {\n",
       "        vertical-align: middle;\n",
       "    }\n",
       "\n",
       "    .dataframe tbody tr th {\n",
       "        vertical-align: top;\n",
       "    }\n",
       "\n",
       "    .dataframe thead th {\n",
       "        text-align: right;\n",
       "    }\n",
       "</style>\n",
       "<table border=\"1\" class=\"dataframe\">\n",
       "  <thead>\n",
       "    <tr style=\"text-align: right;\">\n",
       "      <th></th>\n",
       "      <th>age</th>\n",
       "      <th>sex</th>\n",
       "      <th>education</th>\n",
       "      <th>education-num</th>\n",
       "      <th>marital-status</th>\n",
       "      <th>workclass</th>\n",
       "      <th>occupation</th>\n",
       "      <th>hours-per-week</th>\n",
       "      <th>income</th>\n",
       "      <th>label</th>\n",
       "    </tr>\n",
       "  </thead>\n",
       "  <tbody>\n",
       "    <tr>\n",
       "      <th>0</th>\n",
       "      <td>60</td>\n",
       "      <td>Female</td>\n",
       "      <td>Some-college</td>\n",
       "      <td>10</td>\n",
       "      <td>Widowed</td>\n",
       "      <td>Private</td>\n",
       "      <td>Exec-managerial</td>\n",
       "      <td>40</td>\n",
       "      <td>&lt;=50K</td>\n",
       "      <td>0</td>\n",
       "    </tr>\n",
       "    <tr>\n",
       "      <th>1</th>\n",
       "      <td>25</td>\n",
       "      <td>Male</td>\n",
       "      <td>Masters</td>\n",
       "      <td>14</td>\n",
       "      <td>Never-married</td>\n",
       "      <td>Private</td>\n",
       "      <td>Prof-specialty</td>\n",
       "      <td>35</td>\n",
       "      <td>&lt;=50K</td>\n",
       "      <td>0</td>\n",
       "    </tr>\n",
       "    <tr>\n",
       "      <th>2</th>\n",
       "      <td>32</td>\n",
       "      <td>Male</td>\n",
       "      <td>Bachelors</td>\n",
       "      <td>13</td>\n",
       "      <td>Married</td>\n",
       "      <td>Private</td>\n",
       "      <td>Handlers-cleaners</td>\n",
       "      <td>40</td>\n",
       "      <td>&lt;=50K</td>\n",
       "      <td>0</td>\n",
       "    </tr>\n",
       "    <tr>\n",
       "      <th>3</th>\n",
       "      <td>38</td>\n",
       "      <td>Male</td>\n",
       "      <td>Bachelors</td>\n",
       "      <td>13</td>\n",
       "      <td>Married</td>\n",
       "      <td>Private</td>\n",
       "      <td>Exec-managerial</td>\n",
       "      <td>55</td>\n",
       "      <td>&gt;50K</td>\n",
       "      <td>1</td>\n",
       "    </tr>\n",
       "    <tr>\n",
       "      <th>4</th>\n",
       "      <td>33</td>\n",
       "      <td>Male</td>\n",
       "      <td>Bachelors</td>\n",
       "      <td>13</td>\n",
       "      <td>Never-married</td>\n",
       "      <td>Private</td>\n",
       "      <td>Handlers-cleaners</td>\n",
       "      <td>30</td>\n",
       "      <td>&lt;=50K</td>\n",
       "      <td>0</td>\n",
       "    </tr>\n",
       "  </tbody>\n",
       "</table>\n",
       "</div>"
      ],
      "text/plain": [
       "   age     sex     education  education-num marital-status workclass  \\\n",
       "0   60  Female  Some-college             10        Widowed   Private   \n",
       "1   25    Male       Masters             14  Never-married   Private   \n",
       "2   32    Male     Bachelors             13        Married   Private   \n",
       "3   38    Male     Bachelors             13        Married   Private   \n",
       "4   33    Male     Bachelors             13  Never-married   Private   \n",
       "\n",
       "          occupation  hours-per-week income  label  \n",
       "0    Exec-managerial              40  <=50K      0  \n",
       "1     Prof-specialty              35  <=50K      0  \n",
       "2  Handlers-cleaners              40  <=50K      0  \n",
       "3    Exec-managerial              55   >50K      1  \n",
       "4  Handlers-cleaners              30  <=50K      0  "
      ]
     },
     "execution_count": 20,
     "metadata": {},
     "output_type": "execute_result"
    }
   ],
   "source": [
    "df.head()"
   ]
  },
  {
   "cell_type": "code",
   "execution_count": 45,
   "metadata": {},
   "outputs": [],
   "source": [
    "target = 'label'\n",
    "cat_cols = ['sex', 'education-num', 'marital-status', 'workclass', 'occupation']\n",
    "cont_cols = ['age', 'hours-per-week']\n",
    "\n",
    "# Change categorical cols to category dtype\n",
    "for col in cat_cols:\n",
    "    df[col] = df[col].astype('category')\n",
    "\n",
    "# Turn categorical cols ino numpy arrays. Assign #s to each category\n",
    "cats = np.stack([df[col].cat.codes.values for col in cat_cols], axis=1)\n",
    "\n",
    "# Convert to PyTorch tensor\n",
    "cats = torch.tensor(cats, dtype=torch.int64)\n",
    "\n",
    "# Do the same with the continuous cols\n",
    "conts = np.stack([df[col].values for col in cont_cols], axis=1)\n",
    "conts = torch.tensor(conts, dtype=torch.float)\n",
    "\n",
    "# For classification, we do NOT want to reshape target (y) to be columnar!\n",
    "target = torch.tensor(df[target], dtype=torch.int64)"
   ]
  },
  {
   "cell_type": "markdown",
   "metadata": {},
   "source": [
    "### Create embeddings for categorical cols"
   ]
  },
  {
   "cell_type": "code",
   "execution_count": 22,
   "metadata": {},
   "outputs": [
    {
     "name": "stdout",
     "output_type": "stream",
     "text": [
      "[(# of categories, # embeddings), ...] = [(2, 1), (14, 7), (6, 3), (5, 3), (12, 6)]\n"
     ]
    }
   ],
   "source": [
    "# Determine # of categories in each categorical feature\n",
    "cat_szs = [len(df[col].cat.categories) for col in cat_cols]\n",
    "\n",
    "# Embeddings per category = min(50, sz/2) for each categorical col\n",
    "emb_szs  = [(size, min(50, (size+1)//2)) for size in cat_szs]\n",
    "print(f'[(# of categories, # embeddings), ...] = {emb_szs}')"
   ]
  },
  {
   "cell_type": "code",
   "execution_count": 23,
   "metadata": {},
   "outputs": [
    {
     "name": "stdout",
     "output_type": "stream",
     "text": [
      "Embeddings = [Embedding(2, 1), Embedding(14, 7), Embedding(6, 3), Embedding(5, 3), Embedding(12, 6)]\n"
     ]
    }
   ],
   "source": [
    "# Pass cat cols and # of embeddings per to the embedding module\n",
    "embeds = [nn.Embedding(n_cats, n_embs) for n_cats,n_embs in emb_szs]\n",
    "print(f'Embeddings = {embeds}')"
   ]
  },
  {
   "cell_type": "code",
   "execution_count": 24,
   "metadata": {},
   "outputs": [
    {
     "name": "stdout",
     "output_type": "stream",
     "text": [
      "Embeddings ModuleList:\n",
      "ModuleList(\n",
      "  (0): Embedding(2, 1)\n",
      "  (1): Embedding(14, 7)\n",
      "  (2): Embedding(6, 3)\n",
      "  (3): Embedding(5, 3)\n",
      "  (4): Embedding(12, 6)\n",
      ")\n"
     ]
    }
   ],
   "source": [
    "# Create a ModuleList from embeddings\n",
    "embeds_mod_list = nn.ModuleList(embeds)\n",
    "print(f'Embeddings ModuleList:\\n{embeds_mod_list}')\n",
    "\n",
    "# The embeddings apply weights to categories. These weights are updated during .backward, allowing the model to learn. See the ny_taxis nb for an example of how the embeddings look for a subset of categorical col categories."
   ]
  },
  {
   "cell_type": "markdown",
   "metadata": {},
   "source": [
    "### Define Tabular model"
   ]
  },
  {
   "cell_type": "code",
   "execution_count": 36,
   "metadata": {},
   "outputs": [],
   "source": [
    "class TabularModel(nn.Module):\n",
    "\n",
    "    def __init__(self, emb_szs, n_cont, out_sz, layers, p=0.5):\n",
    "        \"\"\"Initialize the tabular model\n",
    "\n",
    "        :param emb_szs: List of tuples mapping # of categories and # of embeddings per categorical col\n",
    "        :type emb_szs: list\n",
    "        :param n_cont: # of continuous cols\n",
    "        :type n_cont: int\n",
    "        :param out_sz: Output size\n",
    "        :type out_sz: int\n",
    "        :param layers: Layer size(s)\n",
    "        :type layers: list\n",
    "        :param p: Probability of dropout layer, defaults to 0.5\n",
    "        :type p: float, optional\n",
    "        \"\"\"\n",
    "        \n",
    "        # Inherit from nn.Module class\n",
    "        super().__init__()\n",
    "\n",
    "        # Create embeddings for categorical cols\n",
    "        self.embeds = nn.ModuleList([nn.Embedding(n_cats, n_embs) for n_cats,n_embs in emb_szs])\n",
    "        # Create dropout layer - probability embedding(s) will be dropped\n",
    "        self.emb_drop = nn.Dropout(p)\n",
    "        # Normalize continuous data\n",
    "        self.bn_cont = nn.BatchNorm1d(n_cont)\n",
    "\n",
    "        # Establish sequence of NN layers. Each layer will include a linear fn, an activation fn (ReLU), a normalization step and a dropout layer\n",
    "        layerlist = []\n",
    "        n_embs = sum([n_embs for n_cats,n_embs in emb_szs])\n",
    "        n_in = n_embs + n_cont\n",
    "\n",
    "        # Iteratively build network based on layers param\n",
    "        for i in layers:\n",
    "            layerlist.append(nn.Linear(n_in, i))\n",
    "            layerlist.append(nn.ReLU(inplace=True))\n",
    "            layerlist.append(nn.BatchNorm1d(i))\n",
    "            layerlist.append(nn.Dropout(p))\n",
    "            n_in = i\n",
    "\n",
    "        # Define output linear layer\n",
    "        layerlist.append(nn.Linear(layers[-1], out_sz))\n",
    "\n",
    "        # Combine list of layers\n",
    "        self.layers = nn.Sequential(*layerlist)\n",
    "\n",
    "    def forward(self, x_cat, x_cont):\n",
    "        \"\"\"Define how the model will move forward\n",
    "\n",
    "        :param x_cat: Categorical features\n",
    "        :type x_cat: torch.tensor\n",
    "        :param x_cont: Continuous features\n",
    "        :type x_cont: torch.tensor\n",
    "        \"\"\"\n",
    "        embeddings = []\n",
    "\n",
    "        # Track embeddings separately for each categorical column, and each value within the column\n",
    "        for i,e in enumerate(self.embeds):\n",
    "            embeddings.append(e(x_cat[:,i]))\n",
    "\n",
    "        # Combine all embeddings into a single tensor per row, tracking all categorical col embeddings\n",
    "        x = torch.cat(embeddings,1)\n",
    "\n",
    "        # Add continuous feats to the mix\n",
    "        x_cont = self.bn_cont(x_cont)  # Normalize cont feats\n",
    "        x = torch.cat([x,x_cont], 1)\n",
    "        x = self.layers(x)\n",
    "        return x"
   ]
  },
  {
   "cell_type": "markdown",
   "metadata": {},
   "source": [
    "### Create and train model"
   ]
  },
  {
   "cell_type": "code",
   "execution_count": 37,
   "metadata": {},
   "outputs": [
    {
     "data": {
      "text/plain": [
       "TabularModel(\n",
       "  (embeds): ModuleList(\n",
       "    (0): Embedding(2, 1)\n",
       "    (1): Embedding(14, 7)\n",
       "    (2): Embedding(6, 3)\n",
       "    (3): Embedding(5, 3)\n",
       "    (4): Embedding(12, 6)\n",
       "  )\n",
       "  (emb_drop): Dropout(p=0.5, inplace=False)\n",
       "  (bn_cont): BatchNorm1d(2, eps=1e-05, momentum=0.1, affine=True, track_running_stats=True)\n",
       "  (layers): Sequential(\n",
       "    (0): Linear(in_features=22, out_features=200, bias=True)\n",
       "    (1): ReLU(inplace=True)\n",
       "    (2): BatchNorm1d(200, eps=1e-05, momentum=0.1, affine=True, track_running_stats=True)\n",
       "    (3): Dropout(p=0.5, inplace=False)\n",
       "    (4): Linear(in_features=200, out_features=100, bias=True)\n",
       "    (5): ReLU(inplace=True)\n",
       "    (6): BatchNorm1d(100, eps=1e-05, momentum=0.1, affine=True, track_running_stats=True)\n",
       "    (7): Dropout(p=0.5, inplace=False)\n",
       "    (8): Linear(in_features=100, out_features=2, bias=True)\n",
       "  )\n",
       ")"
      ]
     },
     "execution_count": 37,
     "metadata": {},
     "output_type": "execute_result"
    }
   ],
   "source": [
    "model = TabularModel(emb_szs=emb_szs, n_cont=conts.shape[1], out_sz=2, layers=[200,100])\n",
    "model"
   ]
  },
  {
   "cell_type": "code",
   "execution_count": 38,
   "metadata": {},
   "outputs": [],
   "source": [
    "# Set criterion (error) and optimizer\n",
    "criterion = nn.CrossEntropyLoss()\n",
    "optimizer = torch.optim.Adam(model.parameters(), lr=0.001)  # replacement optimization algo for stochastic gradient descent (SGD)"
   ]
  },
  {
   "cell_type": "code",
   "execution_count": 49,
   "metadata": {},
   "outputs": [],
   "source": [
    "# Define batch sizes\n",
    "batch_size = 10000\n",
    "test_size = int(0.2*batch_size)\n",
    "\n",
    "# Train/test splits\n",
    "cat_train = cats[:batch_size-test_size]\n",
    "cat_test = cats[batch_size-test_size:]\n",
    "cont_train = conts[:batch_size-test_size]\n",
    "cont_test = conts[batch_size-test_size:]\n",
    "\n",
    "y_train = target[:batch_size-test_size]\n",
    "y_test = target[batch_size-test_size:]"
   ]
  },
  {
   "cell_type": "code",
   "execution_count": 55,
   "metadata": {},
   "outputs": [
    {
     "name": "stdout",
     "output_type": "stream",
     "text": [
      "Epoch: 1 \t Loss: 0.8323158621788025\n",
      "Epoch: 26 \t Loss: 0.4911045432090759\n",
      "Epoch: 51 \t Loss: 0.4272856116294861\n",
      "Epoch: 76 \t Loss: 0.3798638582229614\n",
      "Epoch: 101 \t Loss: 0.35348084568977356\n",
      "Epoch: 126 \t Loss: 0.3251810371875763\n",
      "Epoch: 151 \t Loss: 0.30281612277030945\n",
      "Epoch: 176 \t Loss: 0.2910132110118866\n",
      "Epoch: 201 \t Loss: 0.28004154562950134\n",
      "Epoch: 226 \t Loss: 0.2688681483268738\n",
      "Epoch: 251 \t Loss: 0.2591405510902405\n",
      "Epoch: 276 \t Loss: 0.25838568806648254\n",
      "All done! Training took 0 minutes.\n"
     ]
    }
   ],
   "source": [
    "# Train model!\n",
    "import time\n",
    "start = time.time()\n",
    "\n",
    "epochs = 300\n",
    "losses = []\n",
    "\n",
    "for i in range(epochs):\n",
    "    i+=1\n",
    "    y_pred = model(cat_train, cont_train)\n",
    "    loss = criterion(y_pred, y_train)\n",
    "    losses.append(loss)\n",
    "    if i%25 == 1:\n",
    "        print(f'Epoch: {i} \\t Loss: {loss}')\n",
    "    \n",
    "    optimizer.zero_grad()  # Find where gradient is zero\n",
    "    loss.backward()  # Step backward thru network\n",
    "    optimizer.step()  # Update hyperparams\n",
    "\n",
    "elapsed = time.time() - start\n",
    "print(f'All done! Training took {round(elapsed/60)} minutes.')"
   ]
  },
  {
   "cell_type": "code",
   "execution_count": 57,
   "metadata": {},
   "outputs": [
    {
     "data": {
      "text/plain": [
       "[<matplotlib.lines.Line2D at 0x278aee88280>]"
      ]
     },
     "execution_count": 57,
     "metadata": {},
     "output_type": "execute_result"
    },
    {
     "data": {
      "image/png": "[encoded data removed]",
      "text/plain": [
       "<Figure size 432x288 with 1 Axes>"
      ]
     },
     "metadata": {
      "needs_background": "light"
     },
     "output_type": "display_data"
    }
   ],
   "source": [
    "import matplotlib.pyplot as plt\n",
    "\n",
    "# Plot loss function\n",
    "plt.plot(range(epochs), [el.item() for el in losses])\n",
    "# It looks like the loss is starting to level out around 300 epochs. We could probably squeeze a bit more performance out of the model, but this will do"
   ]
  },
  {
   "cell_type": "markdown",
   "metadata": {},
   "source": [
    "### Validate model on test data"
   ]
  },
  {
   "cell_type": "code",
   "execution_count": 63,
   "metadata": {},
   "outputs": [
    {
     "name": "stdout",
     "output_type": "stream",
     "text": [
      "Loss: 0.2918\n"
     ]
    }
   ],
   "source": [
    "with torch.no_grad():\n",
    "    y_val = model(cat_test, cont_test)\n",
    "    loss = criterion(y_val, y_test)\n",
    "print(f'Loss: {round(loss.item(), 4)}')\n",
    "# Not entirely sure how to interpret a Cross Entropy Loss of 0.2918"
   ]
  },
  {
   "cell_type": "code",
   "execution_count": 74,
   "metadata": {},
   "outputs": [
    {
     "name": "stdout",
     "output_type": "stream",
     "text": [
      "The model predicted the correct income classification (north/south of $50k) 86.89% of the time.\n"
     ]
    }
   ],
   "source": [
    "# Calculate overall % accuracy\n",
    "correct = 0\n",
    "for pred,actual in zip(y_val, y_test):\n",
    "    pred_class = pred.argmax().item()\n",
    "    actual_class = actual.item()\n",
    "    if pred_class == actual_class:\n",
    "        correct += 1\n",
    "perc_correct = round((correct/len(y_test))*100, 2)\n",
    "print(f'The model predicted the correct income classification (north/south of $50k) {perc_correct}% of the time.')"
   ]
  },
  {
   "cell_type": "code",
   "execution_count": 64,
   "metadata": {},
   "outputs": [],
   "source": [
    "# Save the model\n",
    "torch.save(model.state_dict(), 'income_clf.pt')"
   ]
  },
  {
   "cell_type": "markdown",
   "metadata": {},
   "source": [
    "### Use the model for inference"
   ]
  },
  {
   "cell_type": "code",
   "execution_count": 87,
   "metadata": {},
   "outputs": [
    {
     "data": {
      "text/plain": [
       "TabularModel(\n",
       "  (embeds): ModuleList(\n",
       "    (0): Embedding(2, 1)\n",
       "    (1): Embedding(14, 7)\n",
       "    (2): Embedding(6, 3)\n",
       "    (3): Embedding(5, 3)\n",
       "    (4): Embedding(12, 6)\n",
       "  )\n",
       "  (emb_drop): Dropout(p=0.5, inplace=False)\n",
       "  (bn_cont): BatchNorm1d(2, eps=1e-05, momentum=0.1, affine=True, track_running_stats=True)\n",
       "  (layers): Sequential(\n",
       "    (0): Linear(in_features=22, out_features=200, bias=True)\n",
       "    (1): ReLU(inplace=True)\n",
       "    (2): BatchNorm1d(200, eps=1e-05, momentum=0.1, affine=True, track_running_stats=True)\n",
       "    (3): Dropout(p=0.5, inplace=False)\n",
       "    (4): Linear(in_features=200, out_features=100, bias=True)\n",
       "    (5): ReLU(inplace=True)\n",
       "    (6): BatchNorm1d(100, eps=1e-05, momentum=0.1, affine=True, track_running_stats=True)\n",
       "    (7): Dropout(p=0.5, inplace=False)\n",
       "    (8): Linear(in_features=100, out_features=2, bias=True)\n",
       "  )\n",
       ")"
      ]
     },
     "execution_count": 87,
     "metadata": {},
     "output_type": "execute_result"
    }
   ],
   "source": [
    "# We can (luckily) take advantage of the fact that we already have the TabularModel class defined. If not, we would have to save/load the model to/from a pkl file\n",
    "emb_szs_pred = [(2,1), (14,7), (6,3), (5,3), (12,6)]\n",
    "pred_model = TabularModel(emb_szs=emb_szs_pred, n_cont=2, out_sz=2, layers=[200,100])\n",
    "pred_model.load_state_dict(torch.load('income_clf.pt'))\n",
    "pred_model.eval()  # Important \"step 2\" of instantiating the model"
   ]
  },
  {
   "cell_type": "code",
   "execution_count": 82,
   "metadata": {},
   "outputs": [
    {
     "data": {
      "text/html": [
       "<div>\n",
       "<style scoped>\n",
       "    .dataframe tbody tr th:only-of-type {\n",
       "        vertical-align: middle;\n",
       "    }\n",
       "\n",
       "    .dataframe tbody tr th {\n",
       "        vertical-align: top;\n",
       "    }\n",
       "\n",
       "    .dataframe thead th {\n",
       "        text-align: right;\n",
       "    }\n",
       "</style>\n",
       "<table border=\"1\" class=\"dataframe\">\n",
       "  <thead>\n",
       "    <tr style=\"text-align: right;\">\n",
       "      <th></th>\n",
       "      <th>age</th>\n",
       "      <th>sex</th>\n",
       "      <th>education</th>\n",
       "      <th>education-num</th>\n",
       "      <th>marital-status</th>\n",
       "      <th>workclass</th>\n",
       "      <th>occupation</th>\n",
       "      <th>hours-per-week</th>\n",
       "      <th>income</th>\n",
       "      <th>label</th>\n",
       "    </tr>\n",
       "  </thead>\n",
       "  <tbody>\n",
       "    <tr>\n",
       "      <th>0</th>\n",
       "      <td>60</td>\n",
       "      <td>Female</td>\n",
       "      <td>Some-college</td>\n",
       "      <td>10</td>\n",
       "      <td>Widowed</td>\n",
       "      <td>Private</td>\n",
       "      <td>Exec-managerial</td>\n",
       "      <td>40</td>\n",
       "      <td>&lt;=50K</td>\n",
       "      <td>0</td>\n",
       "    </tr>\n",
       "  </tbody>\n",
       "</table>\n",
       "</div>"
      ],
      "text/plain": [
       "   age     sex     education education-num marital-status workclass  \\\n",
       "0   60  Female  Some-college            10        Widowed   Private   \n",
       "\n",
       "        occupation  hours-per-week income  label  \n",
       "0  Exec-managerial              40  <=50K      0  "
      ]
     },
     "execution_count": 82,
     "metadata": {},
     "output_type": "execute_result"
    }
   ],
   "source": [
    "# Columns refresher\n",
    "df.head(1)"
   ]
  },
  {
   "cell_type": "code",
   "execution_count": 100,
   "metadata": {},
   "outputs": [],
   "source": [
    "# Build context dicts to map categorical vals to ints\n",
    "def cd_builder(df, col):\n",
    "    \"\"\"Build a context dict that maps categorical values to integers\n",
    "    \"\"\"\n",
    "    unique_cats = [str(el) for el in df[col].unique()]\n",
    "    cd = {}\n",
    "    for i,cat in enumerate(unique_cats):\n",
    "        cd[cat] = i\n",
    "    return cd\n",
    "\n",
    "cat_cols = ['sex', 'education-num', 'marital-status', 'workclass', 'occupation']\n",
    "ordered_cds = [cd_builder(df, col) for col in cat_cols]"
   ]
  },
  {
   "cell_type": "code",
   "execution_count": 168,
   "metadata": {},
   "outputs": [
    {
     "name": "stdout",
     "output_type": "stream",
     "text": [
      "Categories tensor \ttensor([[1, 2, 1, 0, 4]])\n",
      "Continuous tensor \ttensor([[24., 40.]])\n"
     ]
    }
   ],
   "source": [
    "# Gather categorical and continuous features of new person\n",
    "new_person_cats = [\n",
    "    'Male',  # sex\n",
    "    '13',  # education-num\n",
    "    'Never-married',  # marital-status\n",
    "    'Private',  # workclass\n",
    "    'Other-service',  # occupation\n",
    "]\n",
    "new_person_conts = [\n",
    "    24,  # age\n",
    "    40  # hours-per-week\n",
    "]\n",
    "\n",
    "# Map categorical vals to ints using ordered_cds (ordered context dicts - sex, education-num, ..., hours-per-week)\n",
    "np_cats_ints = [cd[val] for cd,val in zip(ordered_cds, new_person_cats)]\n",
    "\n",
    "# Create tensor for categorical feats\n",
    "np_cats_tens = torch.tensor(np_cats_ints, dtype=torch.int64).reshape(1,-1)\n",
    "\n",
    "# Create tensor for continuous feats\n",
    "np_conts_tens = torch.tensor(new_person_conts, dtype=torch.float).reshape(1,-1)\n",
    "\n",
    "print(f'Categories tensor \\t{np_cats_tens}\\nContinuous tensor \\t{np_conts_tens}')"
   ]
  },
  {
   "cell_type": "code",
   "execution_count": 166,
   "metadata": {},
   "outputs": [],
   "source": [
    "# Take a look at np_embeds (new person categorical columns with embeddings applied!)\n",
    "# We will pass this through the model, along with the 2 continuous features, in order to get a prediction\n",
    "# np_embeds_combined"
   ]
  },
  {
   "cell_type": "code",
   "execution_count": 154,
   "metadata": {},
   "outputs": [
    {
     "name": "stdout",
     "output_type": "stream",
     "text": [
      "New person predicted class: 0\n"
     ]
    }
   ],
   "source": [
    "# Use model for inference!\n",
    "\n",
    "with torch.no_grad():\n",
    "    new_person_pred = pred_model(np_cats_tens, np_conts_tens).argmax().item()\n",
    "print(f'New person predicted class: {new_person_pred}')"
   ]
  },
  {
   "cell_type": "markdown",
   "metadata": {},
   "source": [
    "The model thinks I make less than 50k ):\n",
    "\n",
    "Anyways, I had to go through a few steps, and a good bit of trial/error in order to get the model operational for inference.\n",
    "\n",
    "1) Define the embedding sizes (emb_szs)\n",
    "2) Call on the TabularModel class to instantiate the model. Use whichever args you want. We are able to call upon the class because it's defined already in the notebook. We have to call upon the TabularModel class bc we are only loading the model as a state dict\n",
    "3) \"Instantiate part 2\" with {model}.eval()\n",
    "4) Build context dictionaries for each of the categorical cols. This is done in order to map the categorical values to integers so that it can be passed to the model as a tensor\n",
    "5) Create a new person whose income class you'd like to predict (> or < $50k)\n",
    "6) Separate categorical and continuous features\n",
    "7) Use the context dicts to map categorical values to integers\n",
    "8) Map both categorical and continuous features to PyTorch tensors. Ensure each tensor is a single row (.reshape(1,-1))\n",
    "9) Pass the categories and continuous vals tensors through the model to get a new prediction!\n",
    "\n",
    "PITFALLS:\n",
    "I ran into trouble around steps 8 and 9. I thought I had to create the embeddings for the categorical vals. The model takes care of this, however. I pass the model all the information it needs in order to do so (categories tensor and embeddings sizes). In summary, the model should only need 2 things: an array of categorical column values and an array of continuous column values. The array will look something like the following:\n",
    "\n",
    "[\n",
    "    [cat embeddings for person 1],\n",
    "    [cat embeddings for person 2],\n",
    "    ...\n",
    "    [cat embeddings for person n]\n",
    "]\n",
    "\n",
    "and\n",
    "\n",
    "[\n",
    "    [cont_val_1i, cont_val_2i, ..., cont_val_ni],\n",
    "    ...\n",
    "    [cont_val_1j, cont_val_2j, ..., cont_val_nj]\n",
    "]"
   ]
  },
  {
   "cell_type": "markdown",
   "metadata": {},
   "source": []
  }
 ],
 "metadata": {
  "kernelspec": {
   "display_name": "Python 3.8.6 ('ml_env': venv)",
   "language": "python",
   "name": "python3"
  },
  "language_info": {
   "codemirror_mode": {
    "name": "ipython",
    "version": 3
   },
   "file_extension": ".py",
   "mimetype": "text/x-python",
   "name": "python",
   "nbconvert_exporter": "python",
   "pygments_lexer": "ipython3",
   "version": "3.8.6"
  },
  "orig_nbformat": 4,
  "vscode": {
   "interpreter": {
    "hash": "55ed3b3ab9a1955bbb0d7a3066b8de5cfd822c1a9d669ff669eb7c2d03a74e44"
   }
  }
 },
 "nbformat": 4,
 "nbformat_minor": 2
}
